{
 "cells": [
  {
   "cell_type": "code",
   "execution_count": 1,
   "id": "30709134",
   "metadata": {},
   "outputs": [],
   "source": [
    "import torch\n",
    "import random\n",
    "import numpy as np\n",
    "import torch.nn as nn\n",
    "import os\n",
    "# Custom helpers\n",
    "from model import *\n",
    "# Allow autoreload\n",
    "%load_ext autoreload\n",
    "%autoreload 2"
   ]
  },
  {
   "cell_type": "markdown",
   "id": "c570080b",
   "metadata": {},
   "source": [
    "### Model Creations"
   ]
  },
  {
   "cell_type": "code",
   "execution_count": 2,
   "id": "2faef4e0",
   "metadata": {},
   "outputs": [],
   "source": [
    "seeds = [0,1024,2022]\n",
    "model_types = {\"CIFAR_10\":(3,10),\"CIFAR_100\":(3,100),\"MNIST\":(1,10),\"Fashion_MNIST\":(1,10)}\n",
    "os.mkdir(\"init_models\")\n",
    "for s in seeds:\n",
    "    for name, (in_channel,class_nb) in model_types.items():\n",
    "        torch.manual_seed(s)\n",
    "        random.seed(s)\n",
    "        np.random.seed(s)\n",
    "        ### Model\n",
    "        model = VGG(in_channel,class_nb)\n",
    "        torch.save({\"model_state_dict\":model.state_dict()},\"init_models/\"+name+\"_\"+str(s)+\".pth\")"
   ]
  }
 ],
 "metadata": {
  "kernelspec": {
   "display_name": "Python 3 (ipykernel)",
   "language": "python",
   "name": "python3"
  },
  "language_info": {
   "codemirror_mode": {
    "name": "ipython",
    "version": 3
   },
   "file_extension": ".py",
   "mimetype": "text/x-python",
   "name": "python",
   "nbconvert_exporter": "python",
   "pygments_lexer": "ipython3",
   "version": "3.9.12"
  }
 },
 "nbformat": 4,
 "nbformat_minor": 5
}
