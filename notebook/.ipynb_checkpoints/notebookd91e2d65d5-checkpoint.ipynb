{
 "cells": [
  {
   "cell_type": "code",
   "execution_count": 1,
   "metadata": {
    "execution": {
     "iopub.execute_input": "2022-06-16T16:01:08.360956Z",
     "iopub.status.busy": "2022-06-16T16:01:08.360548Z",
     "iopub.status.idle": "2022-06-16T16:01:10.158982Z",
     "shell.execute_reply": "2022-06-16T16:01:10.157815Z",
     "shell.execute_reply.started": "2022-06-16T16:01:08.360874Z"
    }
   },
   "outputs": [],
   "source": [
    "!git clone https://github.com/JerBaf/opt_ml_project"
   ]
  },
  {
   "cell_type": "markdown",
   "metadata": {},
   "source": [
    "## Imports"
   ]
  },
  {
   "cell_type": "code",
   "execution_count": 2,
   "metadata": {
    "execution": {
     "iopub.execute_input": "2022-06-16T16:01:10.165793Z",
     "iopub.status.busy": "2022-06-16T16:01:10.162635Z",
     "iopub.status.idle": "2022-06-16T16:01:11.824607Z",
     "shell.execute_reply": "2022-06-16T16:01:11.823333Z",
     "shell.execute_reply.started": "2022-06-16T16:01:10.165746Z"
    }
   },
   "outputs": [],
   "source": [
    "!cp /kaggle/working/opt_ml_project/model_one_channel.py /kaggle/working/model.py\n",
    "!cp /kaggle/working/opt_ml_project/nb_optimizers.py /kaggle/working/nb_optimizers.py"
   ]
  },
  {
   "cell_type": "code",
   "execution_count": 3,
   "metadata": {
    "execution": {
     "iopub.execute_input": "2022-06-16T16:01:11.827977Z",
     "iopub.status.busy": "2022-06-16T16:01:11.825866Z",
     "iopub.status.idle": "2022-06-16T16:01:13.522198Z",
     "shell.execute_reply": "2022-06-16T16:01:13.520905Z",
     "shell.execute_reply.started": "2022-06-16T16:01:11.827929Z"
    }
   },
   "outputs": [],
   "source": [
    "!mkdir /kaggle/working/checkpoints\n",
    "!mkdir /kaggle/working/weights"
   ]
  },
  {
   "cell_type": "code",
   "execution_count": 4,
   "metadata": {
    "execution": {
     "iopub.execute_input": "2022-06-16T16:01:13.525401Z",
     "iopub.status.busy": "2022-06-16T16:01:13.524816Z",
     "iopub.status.idle": "2022-06-16T16:01:16.356954Z",
     "shell.execute_reply": "2022-06-16T16:01:16.356007Z",
     "shell.execute_reply.started": "2022-06-16T16:01:13.525353Z"
    }
   },
   "outputs": [],
   "source": [
    "import torch\n",
    "import torchvision\n",
    "import ssl\n",
    "import random\n",
    "import numpy as np\n",
    "from torch.utils.data import DataLoader\n",
    "import torchvision.transforms as transforms\n",
    "import torch.nn as nn\n",
    "import torch.optim as optim\n",
    "import torch.nn.functional as F\n",
    "import torch.backends.cudnn as cudnn\n",
    "import matplotlib.pyplot as plt\n",
    "from sklearn.decomposition import PCA\n",
    "from sklearn.manifold import TSNE\n",
    "import tqdm.notebook as tqdm\n",
    "from torch.utils.data.sampler import SubsetRandomSampler\n",
    "import os\n",
    "# Custom helpers\n",
    "from model import *\n",
    "import nb_optimizers as opt\n",
    "# Allow autoreload\n",
    "%load_ext autoreload\n",
    "%autoreload 2\n",
    "# Allow Download of CIFAR datasets\n",
    "ssl._create_default_https_context = ssl._create_unverified_context"
   ]
  },
  {
   "cell_type": "code",
   "execution_count": 5,
   "metadata": {
    "execution": {
     "iopub.execute_input": "2022-06-16T16:01:16.359152Z",
     "iopub.status.busy": "2022-06-16T16:01:16.358470Z",
     "iopub.status.idle": "2022-06-16T16:01:16.476116Z",
     "shell.execute_reply": "2022-06-16T16:01:16.475106Z",
     "shell.execute_reply.started": "2022-06-16T16:01:16.359113Z"
    }
   },
   "outputs": [],
   "source": [
    "device = torch.device('cuda:0' if torch.cuda.is_available() else 'cpu')\n",
    "#device = \"cpu\"\n",
    "print(device)\n",
    "print('Setup complete. Using torch %s %s' % (torch.__version__, torch.cuda.get_device_properties(0) if torch.cuda.is_available() else 'CPU'))"
   ]
  },
  {
   "cell_type": "markdown",
   "metadata": {},
   "source": [
    "## Model Init"
   ]
  },
  {
   "cell_type": "code",
   "execution_count": 6,
   "metadata": {
    "execution": {
     "iopub.execute_input": "2022-06-16T16:01:16.478142Z",
     "iopub.status.busy": "2022-06-16T16:01:16.477582Z",
     "iopub.status.idle": "2022-06-16T16:01:18.847485Z",
     "shell.execute_reply": "2022-06-16T16:01:18.846632Z",
     "shell.execute_reply.started": "2022-06-16T16:01:16.478095Z"
    }
   },
   "outputs": [],
   "source": [
    "seeds = [0,1024,2022]\n",
    "model_types = {\"CIFAR_10\":(3,10),\"CIFAR_100\":(3,100),\"MNIST\":(1,10),\"Fashion_MNIST\":(1,10)}\n",
    "os.mkdir(\"init_models\")\n",
    "for s in seeds:\n",
    "    for name, (in_channel,class_nb) in model_types.items():\n",
    "        torch.manual_seed(s)\n",
    "        random.seed(s)\n",
    "        np.random.seed(s)\n",
    "        ### Model\n",
    "        model = VGG(in_channel,class_nb)\n",
    "        torch.save({\"model_state_dict\":model.state_dict()},\"init_models/\"+name+\"_\"+str(s)+\".pth\")"
   ]
  },
  {
   "cell_type": "markdown",
   "metadata": {},
   "source": [
    "## Helpers"
   ]
  },
  {
   "cell_type": "code",
   "execution_count": 7,
   "metadata": {
    "execution": {
     "iopub.execute_input": "2022-06-16T16:01:18.849147Z",
     "iopub.status.busy": "2022-06-16T16:01:18.848791Z",
     "iopub.status.idle": "2022-06-16T16:01:18.908476Z",
     "shell.execute_reply": "2022-06-16T16:01:18.907462Z",
     "shell.execute_reply.started": "2022-06-16T16:01:18.849110Z"
    }
   },
   "outputs": [],
   "source": [
    "### Helpers\n",
    "def seed_worker(worker_id):\n",
    "    worker_seed = torch.initial_seed() % 2**32\n",
    "    np.random.seed(worker_seed)\n",
    "    random.seed(worker_seed)\n",
    "\n",
    "def get_samplers(train_dataset,generator,shuffle=True,val_ratio=0.1):\n",
    "    num_train = len(train_dataset)\n",
    "    indices = list(range(num_train))\n",
    "    split = int(np.floor(val_ratio * num_train))\n",
    "    if shuffle:\n",
    "        np.random.shuffle(indices)\n",
    "    train_idx, val_idx = indices[split:], indices[:split]\n",
    "    train_sampler = SubsetRandomSampler(train_idx,generator=generator)\n",
    "    val_sampler = SubsetRandomSampler(val_idx,generator=generator)\n",
    "    return train_sampler, val_sampler\n",
    "\n",
    "def collect_weights(cnn_weights_list,linear_weights_list,model,channels_nb=3):\n",
    "    for m in model.modules():\n",
    "        if isinstance(m, nn.Conv2d):\n",
    "            if m.in_channels == channels_nb:\n",
    "                cnn_weights_list.append(m.weight.ravel().detach().cpu().numpy())\n",
    "        elif isinstance(m, nn.Linear):\n",
    "            linear_weights_list.append(m.weight.ravel().detach().cpu().numpy())\n",
    "\n",
    "def train_step(model,train_dataloader,device,optimizer,criterion,epoch,cnn_layer_weights,linear_layer_weights,channels):\n",
    "    model.train()\n",
    "    train_loss = 0\n",
    "    correct = 0\n",
    "    total = 0\n",
    "    idx = 0\n",
    "    for inputs, targets in tqdm.tqdm(train_dataloader,leave=False):\n",
    "        ### Collect Weights\n",
    "        if (idx%4) == 0:\n",
    "            collect_weights(cnn_layer_weights,linear_layer_weights,model,channels)\n",
    "        ### Perform training\n",
    "        inputs, targets = inputs.to(device), targets.to(device)\n",
    "        optimizer.zero_grad()\n",
    "        outputs = model(inputs)\n",
    "        loss = criterion(outputs, targets)\n",
    "        loss.backward()\n",
    "        optimizer.step()\n",
    "        ### Compute Accuracy\n",
    "        train_loss += loss.item()\n",
    "        _, predicted = outputs.max(1)\n",
    "        total += targets.size(0)\n",
    "        correct += predicted.eq(targets).sum().item()\n",
    "        idx += 1\n",
    "    print(f\"At end of epoch {epoch} we have average loss {train_loss/total:.5f} and average accuracy {correct/total:.5f}%\")  \n",
    "\n",
    "def validation_step(model,val_dataloader,device,criterion,best_acc,epoch,checkpoint_name=\"checkpoint\"):\n",
    "    model.eval()\n",
    "    val_loss = 0\n",
    "    correct = 0\n",
    "    total = 0\n",
    "    with torch.no_grad():\n",
    "        for inputs, targets in tqdm.tqdm(val_dataloader,leave=False):\n",
    "            inputs, targets = inputs.to(device), targets.to(device)\n",
    "            outputs = model(inputs)\n",
    "            loss = criterion(outputs, targets)\n",
    "\n",
    "            val_loss += loss.item()\n",
    "            _, predicted = outputs.max(1)\n",
    "            total += targets.size(0)\n",
    "            correct += predicted.eq(targets).sum().item()\n",
    "    # Save checkpoint.\n",
    "    accuracy = 100.*correct/total\n",
    "    if accuracy > best_acc:\n",
    "        print('Saving..')\n",
    "        state = {\n",
    "            'model': model.state_dict(),\n",
    "            'accuracy': accuracy,\n",
    "            'epoch': epoch,\n",
    "        }\n",
    "        if not os.path.isdir(checkpoint_name):\n",
    "            os.mkdir(checkpoint_name)\n",
    "        torch.save(state, checkpoint_name+\"/ckpt.pth\")\n",
    "        print(f\"New optimal model at epoch {epoch} saved with validation accuracy {correct/total:.5f}%\")\n",
    "    else:\n",
    "        print(f\"Validation accuracy {correct/total:.5f}%\")\n",
    "    return accuracy\n",
    "\n",
    "\n",
    "def training_loop(max_epoch,dataloader_train,device,optimizer,criterion,model,dataloader_val,\n",
    "                  ckpt_name,scheduler,cnn_layer_weights,linear_layer_weights,channels):\n",
    "    best_accuracy = -1\n",
    "    for epoch in tqdm.tqdm(range(max_epoch)):\n",
    "        train_step(model,dataloader_train,device,optimizer,criterion,epoch,cnn_layer_weights,linear_layer_weights,channels)\n",
    "        epoch_accuracy = validation_step(model,dataloader_val,device,criterion,best_accuracy,epoch,checkpoint_name=ckpt_name)\n",
    "        if epoch_accuracy > best_accuracy:\n",
    "            best_accuracy = epoch_accuracy\n",
    "        if scheduler != None:\n",
    "            scheduler.step()\n",
    "\n",
    "def save_weights_for_viz(cnn_weights,linear_weights,basename):\n",
    "    cnn_file = open(basename+\"cnn_weights.npy\",\"wb\")\n",
    "    linear_file = open(basename+\"linear_weights.npy\",\"wb\")\n",
    "    np.save(cnn_file,cnn_weights)\n",
    "    np.save(linear_file,linear_weights)\n",
    "    cnn_file.close()\n",
    "    linear_file.close()"
   ]
  },
  {
   "cell_type": "markdown",
   "metadata": {},
   "source": [
    "## Training Pipeline"
   ]
  },
  {
   "cell_type": "code",
   "execution_count": 8,
   "metadata": {
    "execution": {
     "iopub.execute_input": "2022-06-16T16:01:18.909995Z",
     "iopub.status.busy": "2022-06-16T16:01:18.909652Z",
     "iopub.status.idle": "2022-06-16T16:01:18.968932Z",
     "shell.execute_reply": "2022-06-16T16:01:18.968020Z",
     "shell.execute_reply.started": "2022-06-16T16:01:18.909957Z"
    }
   },
   "outputs": [],
   "source": [
    "def training_pipeline(dataset,init_model_pth,optimizer_parameters,basename,seed=2022,batch_size=1024,max_epoch=75):\n",
    "  ### Reproducibility\n",
    "    torch.manual_seed(seed)\n",
    "    random.seed(seed)\n",
    "    np.random.seed(seed)\n",
    "    g = torch.Generator()\n",
    "    g.manual_seed(seed)\n",
    "  ### Download Datasets\n",
    "    if dataset == \"CIFAR10\":\n",
    "        dataset_train = torchvision.datasets.CIFAR10(\"data/\",download=True)\n",
    "        dataset_test = torchvision.datasets.CIFAR10(\"data/\",download=True,train=False)\n",
    "    elif dataset == \"CIFAR100\":\n",
    "        dataset_train = torchvision.datasets.CIFAR100(\"data/\",download=True)\n",
    "        dataset_test = torchvision.datasets.CIFAR100(\"data/\",download=True,train=False)\n",
    "    elif dataset == \"MNIST\":\n",
    "        dataset_train = torchvision.datasets.MNIST(\"data/\",download=True)\n",
    "        dataset_test = torchvision.datasets.MNIST(\"data/\",download=True,train=False)\n",
    "    elif dataset == \"FashionMNIST\":\n",
    "        dataset_train = torchvision.datasets.FashionMNIST(\"data/\",download=True)\n",
    "        dataset_test = torchvision.datasets.FashionMNIST(\"data/\",download=True,train=False)\n",
    "    else:\n",
    "        raise Exception(\"Unavailable dataset, please select among CIFAR10, CIFAR100, MNIST, FashionMNIST.\")\n",
    "  ### Compute initial Transform\n",
    "    if dataset in [\"CIFAR10\",\"CIFAR100\"]:\n",
    "        mean_per_channel = tuple((dataset_train.data/255).mean(axis=(0,1,2)))\n",
    "        std_per_channel = tuple((dataset_train.data/255).std(axis=(0,1,2)))\n",
    "    else:\n",
    "        mean_per_channel = (dataset_train.data.numpy()/255).mean()\n",
    "        std_per_channel = (dataset_train.data.numpy()/255).std()\n",
    "    transform = transforms.Compose([\n",
    "      transforms.ToTensor(),\n",
    "      transforms.Normalize(mean_per_channel, std_per_channel),\n",
    "    ])\n",
    "  ### Dataset Creation\n",
    "    if dataset == \"CIFAR10\":\n",
    "        dataset_train = torchvision.datasets.CIFAR10(\"data/\",transform=transform)\n",
    "        dataset_test = torchvision.datasets.CIFAR10(\"data/\",transform=transform,train=False)\n",
    "    elif dataset == \"CIFAR100\":\n",
    "        dataset_train = torchvision.datasets.CIFAR100(\"data/\",transform=transform)\n",
    "        dataset_test = torchvision.datasets.CIFAR100(\"data/\",transform=transform,train=False)\n",
    "    elif dataset == \"MNIST\":\n",
    "        dataset_train = torchvision.datasets.MNIST(\"data/\",transform=transform)\n",
    "        dataset_test = torchvision.datasets.MNIST(\"data/\",transform=transform,train=False)\n",
    "    elif dataset == \"FashionMNIST\":\n",
    "        dataset_train = torchvision.datasets.FashionMNIST(\"data/\",transform=transform)\n",
    "        dataset_test = torchvision.datasets.FashionMNIST(\"data/\",transform=transform,train=False)\n",
    "  ### Validation Split\n",
    "    train_sampler, val_sampler = get_samplers(dataset_train,g)\n",
    "  ### Dataloaders creation\n",
    "    dataloader_train = DataLoader(dataset_train,batch_size=batch_size,pin_memory=True,\n",
    "                                  worker_init_fn=seed_worker, generator=g, sampler=train_sampler,\n",
    "                                      )\n",
    "    dataloader_val = DataLoader(dataset_train,batch_size=batch_size,pin_memory=True,\n",
    "                                  worker_init_fn=seed_worker, generator=g, sampler=val_sampler,\n",
    "                                      )\n",
    "    dataloader_test = DataLoader(dataset_test,batch_size=batch_size,pin_memory=True,\n",
    "                                  worker_init_fn=seed_worker, generator=g, shuffle=True)\n",
    "  ### Model Creation\n",
    "    if dataset == \"CIFAR10\":\n",
    "        in_c, out_c = (3,10)\n",
    "    elif dataset == \"CIFAR100\":\n",
    "        in_c, out_c = (3,100)\n",
    "    elif dataset == \"MNIST\":\n",
    "        in_c, out_c = (1,10)\n",
    "    elif dataset == \"FashionMNIST\":\n",
    "        in_c, out_c = (1,10)\n",
    "    model = VGG(in_c,out_c)\n",
    "    init_checkpoint = torch.load(init_model_pth)\n",
    "    model.load_state_dict(init_checkpoint['model_state_dict'])\n",
    "    model.to(device)\n",
    "    if device.type == 'cuda':\n",
    "        model = torch.nn.DataParallel(model)\n",
    "        cudnn.benchmark = True\n",
    "  ### Optimization\n",
    "    criterion = nn.CrossEntropyLoss()\n",
    "    optimizer = opt.createOptimizer(device, optimizer_parameters, model)\n",
    "    scheduler = None\n",
    "  ### Weights Collection\n",
    "    cnn_layer_weights = []\n",
    "    linear_layer_weights = []\n",
    "  ### Saving names\n",
    "    ckpt_name = \"/kaggle/working/checkpoints/\"+basename+\"_val_ckpt\"\n",
    "    weight_folder_name = \"/kaggle/working/weights/\"+basename+\"_weights\"\n",
    "  ### Training Loop\n",
    "    training_loop(max_epoch,dataloader_train,device,optimizer,criterion,model,dataloader_val,\n",
    "                  ckpt_name,scheduler,cnn_layer_weights,linear_layer_weights,in_c)\n",
    "  ### Weights Saving\n",
    "    os.mkdir(weight_folder_name)\n",
    "    save_weights_for_viz(cnn_layer_weights,linear_layer_weights,weight_folder_name+\"/\")"
   ]
  },
  {
   "cell_type": "markdown",
   "metadata": {},
   "source": [
    "## Runs"
   ]
  },
  {
   "cell_type": "markdown",
   "metadata": {},
   "source": [
    "### MAXIMAXI EXTRA"
   ]
  },
  {
   "cell_type": "code",
   "execution_count": 9,
   "metadata": {
    "execution": {
     "iopub.execute_input": "2022-06-16T16:02:06.964841Z",
     "iopub.status.busy": "2022-06-16T16:02:06.964434Z",
     "iopub.status.idle": "2022-06-16T16:26:48.045726Z",
     "shell.execute_reply": "2022-06-16T16:26:48.044861Z",
     "shell.execute_reply.started": "2022-06-16T16:02:06.964811Z"
    }
   },
   "outputs": [],
   "source": [
    "optimizer_parameters = {\"optimizer\": \"sgd\", \"learning_rate\": 5e-1, \"rho\": None, \"tau\": None, \"delta\": None, \"beta1\": None,\n",
    "                            \"beta2\": None}\n",
    "training_pipeline(\"MNIST\",\"init_models/MNIST_2022.pth\",optimizer_parameters,\"MNIST_sgd_custom_lr_5e-1\",seed=2022,batch_size=1024,max_epoch=70)"
   ]
  },
  {
   "cell_type": "markdown",
   "metadata": {},
   "source": [
    "### MAXIEXTRA"
   ]
  },
  {
   "cell_type": "code",
   "execution_count": 10,
   "metadata": {
    "execution": {
     "iopub.execute_input": "2022-06-16T15:03:48.980746Z",
     "iopub.status.busy": "2022-06-16T15:03:48.980123Z",
     "iopub.status.idle": "2022-06-16T15:27:46.901767Z",
     "shell.execute_reply": "2022-06-16T15:27:46.900795Z",
     "shell.execute_reply.started": "2022-06-16T15:03:48.980710Z"
    }
   },
   "outputs": [],
   "source": [
    "optimizer_parameters = {\"optimizer\": \"momentumsgd\", \"learning_rate\": 1e-1, \"rho\": 0.9, \"tau\": None, \"delta\": None, \"beta1\": None,\n",
    "                            \"beta2\": None}\n",
    "training_pipeline(\"MNIST\",\"init_models/MNIST_2022.pth\",optimizer_parameters,\"MNIST_msgd_custom_lr_1e-1\",seed=2022,batch_size=1024,max_epoch=70)"
   ]
  },
  {
   "cell_type": "markdown",
   "metadata": {},
   "source": [
    "### EXTRA"
   ]
  },
  {
   "cell_type": "markdown",
   "metadata": {},
   "source": [
    "ADAM MNIST"
   ]
  },
  {
   "cell_type": "code",
   "execution_count": 10,
   "metadata": {
    "execution": {
     "iopub.execute_input": "2022-06-16T09:36:41.354451Z",
     "iopub.status.busy": "2022-06-16T09:36:41.353995Z",
     "iopub.status.idle": "2022-06-16T10:20:13.699020Z",
     "shell.execute_reply": "2022-06-16T10:20:13.697630Z",
     "shell.execute_reply.started": "2022-06-16T09:36:41.354406Z"
    }
   },
   "outputs": [],
   "source": [
    "optimizer_parameters = {\"optimizer\": \"adam\", \"learning_rate\": 2e-3, \"rho\": None, \"tau\": None, \"delta\": 1e-8, \"beta1\": 0.9,\n",
    "                            \"beta2\": 0.999}\n",
    "training_pipeline(\"MNIST\",\"init_models/MNIST_2022.pth\",optimizer_parameters,\"MNIST_adam_custom_lr_2e-3\",seed=2022,batch_size=1024,max_epoch=100)"
   ]
  },
  {
   "cell_type": "code",
   "execution_count": 11,
   "metadata": {
    "execution": {
     "iopub.execute_input": "2022-06-16T10:20:13.701648Z",
     "iopub.status.busy": "2022-06-16T10:20:13.701189Z",
     "iopub.status.idle": "2022-06-16T11:03:20.063923Z",
     "shell.execute_reply": "2022-06-16T11:03:20.062905Z",
     "shell.execute_reply.started": "2022-06-16T10:20:13.701583Z"
    }
   },
   "outputs": [],
   "source": [
    "optimizer_parameters = {\"optimizer\": \"adam\", \"learning_rate\": 5e-3, \"rho\": None, \"tau\": None, \"delta\": 1e-8, \"beta1\": 0.9,\n",
    "                            \"beta2\": 0.999}\n",
    "training_pipeline(\"MNIST\",\"init_models/MNIST_2022.pth\",optimizer_parameters,\"MNIST_adam_custom_lr_5e-3\",seed=2022,batch_size=1024,max_epoch=100)"
   ]
  },
  {
   "cell_type": "markdown",
   "metadata": {},
   "source": [
    "ADAM FashionMNIST"
   ]
  },
  {
   "cell_type": "code",
   "execution_count": 12,
   "metadata": {
    "execution": {
     "iopub.execute_input": "2022-06-16T11:03:20.069797Z",
     "iopub.status.busy": "2022-06-16T11:03:20.068893Z",
     "iopub.status.idle": "2022-06-16T11:33:29.155570Z",
     "shell.execute_reply": "2022-06-16T11:33:29.154276Z",
     "shell.execute_reply.started": "2022-06-16T11:03:20.069755Z"
    }
   },
   "outputs": [],
   "source": [
    "optimizer_parameters = {\"optimizer\": \"adam\", \"learning_rate\": 2e-3, \"rho\": None, \"tau\": None, \"delta\": 1e-8, \"beta1\": 0.9,\n",
    "                            \"beta2\": 0.999}\n",
    "training_pipeline(\"FashionMNIST\",\"init_models/Fashion_MNIST_2022.pth\",optimizer_parameters,\"FashionMNIST_adam_custom_lr_2e-3\",seed=2022,batch_size=1024,max_epoch=70)"
   ]
  },
  {
   "cell_type": "code",
   "execution_count": 13,
   "metadata": {
    "execution": {
     "iopub.execute_input": "2022-06-16T11:33:29.158279Z",
     "iopub.status.busy": "2022-06-16T11:33:29.157768Z",
     "iopub.status.idle": "2022-06-16T12:03:43.153541Z",
     "shell.execute_reply": "2022-06-16T12:03:43.152199Z",
     "shell.execute_reply.started": "2022-06-16T11:33:29.158237Z"
    }
   },
   "outputs": [],
   "source": [
    "optimizer_parameters = {\"optimizer\": \"adam\", \"learning_rate\": 5e-3, \"rho\": None, \"tau\": None, \"delta\": 1e-8, \"beta1\": 0.9,\n",
    "                            \"beta2\": 0.999}\n",
    "training_pipeline(\"FashionMNIST\",\"init_models/Fashion_MNIST_2022.pth\",optimizer_parameters,\"FashionMNIST_adam_custom_lr_5e-3\",seed=2022,batch_size=1024,max_epoch=70)"
   ]
  },
  {
   "cell_type": "markdown",
   "metadata": {},
   "source": [
    "SGD Fashion"
   ]
  },
  {
   "cell_type": "code",
   "execution_count": 13,
   "metadata": {
    "execution": {
     "iopub.execute_input": "2022-06-16T13:09:20.222146Z",
     "iopub.status.busy": "2022-06-16T13:09:20.221285Z",
     "iopub.status.idle": "2022-06-16T13:32:45.289759Z",
     "shell.execute_reply": "2022-06-16T13:32:45.288843Z",
     "shell.execute_reply.started": "2022-06-16T13:09:20.222112Z"
    }
   },
   "outputs": [],
   "source": [
    "optimizer_parameters = {\"optimizer\": \"sgd\", \"learning_rate\": 5e-1, \"rho\": None, \"tau\": None, \"delta\": None, \"beta1\": None,\n",
    "                            \"beta2\": None}\n",
    "training_pipeline(\"FashionMNIST\",\"init_models/Fashion_MNIST_2022.pth\",optimizer_parameters,\"FashionMNIST_sgd_custom_lr_5e-1\",seed=2022,batch_size=1024,max_epoch=70)"
   ]
  },
  {
   "cell_type": "markdown",
   "metadata": {},
   "source": [
    "MSGD Fashion"
   ]
  },
  {
   "cell_type": "code",
   "execution_count": 13,
   "metadata": {
    "execution": {
     "iopub.execute_input": "2022-06-16T13:40:20.507213Z",
     "iopub.status.busy": "2022-06-16T13:40:20.506770Z",
     "iopub.status.idle": "2022-06-16T14:10:55.166029Z",
     "shell.execute_reply": "2022-06-16T14:10:55.164642Z",
     "shell.execute_reply.started": "2022-06-16T13:40:20.507179Z"
    }
   },
   "outputs": [],
   "source": [
    "optimizer_parameters = {\"optimizer\": \"momentumsgd\", \"learning_rate\": 1e-1, \"rho\": 0.9, \"tau\": None, \"delta\": None, \"beta1\": None,\n",
    "                            \"beta2\": None}\n",
    "training_pipeline(\"FashionMNIST\",\"init_models/Fashion_MNIST_2022.pth\",optimizer_parameters,\"FashionMNIST_msgd_custom_lr_1e-1\",seed=2022,batch_size=1024,max_epoch=70)"
   ]
  },
  {
   "cell_type": "markdown",
   "metadata": {},
   "source": [
    "### MNIST RERUN"
   ]
  },
  {
   "cell_type": "code",
   "execution_count": 14,
   "metadata": {
    "execution": {
     "iopub.execute_input": "2022-06-16T14:10:55.168900Z",
     "iopub.status.busy": "2022-06-16T14:10:55.168408Z",
     "iopub.status.idle": "2022-06-16T14:41:15.015473Z",
     "shell.execute_reply": "2022-06-16T14:41:15.014109Z",
     "shell.execute_reply.started": "2022-06-16T14:10:55.168853Z"
    }
   },
   "outputs": [],
   "source": [
    "optimizer_parameters = {\"optimizer\": \"sgd\", \"learning_rate\": 5e-1, \"rho\": None, \"tau\": None, \"delta\": None, \"beta1\": None,\n",
    "                            \"beta2\": None}\n",
    "training_pipeline(\"MNIST\",\"init_models/MNIST_2022.pth\",optimizer_parameters,\"MNIST_msgd_custom_lr_5e-1\",seed=2022,batch_size=1024,max_epoch=70)"
   ]
  },
  {
   "cell_type": "code",
   "execution_count": 16,
   "metadata": {
    "execution": {
     "iopub.execute_input": "2022-06-16T14:59:05.113020Z",
     "iopub.status.busy": "2022-06-16T14:59:05.112573Z",
     "iopub.status.idle": "2022-06-16T14:59:06.889251Z",
     "shell.execute_reply": "2022-06-16T14:59:06.887658Z",
     "shell.execute_reply.started": "2022-06-16T14:59:05.112987Z"
    }
   },
   "outputs": [],
   "source": [
    "optimizer_parameters = {\"optimizer\": \"momentumsgd\", \"learning_rate\": 1e-1, \"rho\": None, \"tau\": None, \"delta\": None, \"beta1\": None,\n",
    "                            \"beta2\": None}\n",
    "training_pipeline(\"MNIST\",\"init_models/MNIST_2022.pth\",optimizer_parameters,\"MNIST_msgd_custom_lr_1e-1\",seed=2022,batch_size=1024,max_epoch=70)"
   ]
  },
  {
   "cell_type": "markdown",
   "metadata": {},
   "source": [
    "### SGD"
   ]
  },
  {
   "cell_type": "code",
   "execution_count": null,
   "metadata": {
    "execution": {
     "iopub.execute_input": "2022-06-15T08:42:57.983742Z",
     "iopub.status.busy": "2022-06-15T08:42:57.983321Z",
     "iopub.status.idle": "2022-06-15T09:13:29.80165Z",
     "shell.execute_reply": "2022-06-15T09:13:29.800091Z",
     "shell.execute_reply.started": "2022-06-15T08:42:57.983711Z"
    }
   },
   "outputs": [],
   "source": [
    "optimizer_parameters = {\"optimizer\": \"sgd\", \"learning_rate\": 1e-1, \"rho\": None, \"tau\": None, \"delta\": None, \"beta1\": None,\n",
    "                            \"beta2\": None}\n",
    "training_pipeline(\"MNIST\",\"init_models/MNIST_2022.pth\",optimizer_parameters,\"MNIST_sgd_custom_lr_1e-1\",seed=2022,batch_size=1024,max_epoch=70)"
   ]
  },
  {
   "cell_type": "code",
   "execution_count": null,
   "metadata": {
    "execution": {
     "iopub.execute_input": "2022-06-15T09:13:29.805128Z",
     "iopub.status.busy": "2022-06-15T09:13:29.804232Z",
     "iopub.status.idle": "2022-06-15T09:44:00.636843Z",
     "shell.execute_reply": "2022-06-15T09:44:00.635617Z",
     "shell.execute_reply.started": "2022-06-15T09:13:29.805067Z"
    }
   },
   "outputs": [],
   "source": [
    "optimizer_parameters = {\"optimizer\": \"sgd\", \"learning_rate\": 1e-2, \"rho\": None, \"tau\": None, \"delta\": None, \"beta1\": None,\n",
    "                            \"beta2\": None}\n",
    "training_pipeline(\"MNIST\",\"init_models/MNIST_2022.pth\",optimizer_parameters,\"MNIST_sgd_custom_lr_1e-2\",seed=2022,batch_size=1024,max_epoch=70)"
   ]
  },
  {
   "cell_type": "code",
   "execution_count": null,
   "metadata": {
    "execution": {
     "iopub.execute_input": "2022-06-15T09:44:00.639038Z",
     "iopub.status.busy": "2022-06-15T09:44:00.638745Z",
     "iopub.status.idle": "2022-06-15T10:14:34.832011Z",
     "shell.execute_reply": "2022-06-15T10:14:34.830529Z",
     "shell.execute_reply.started": "2022-06-15T09:44:00.63901Z"
    }
   },
   "outputs": [],
   "source": [
    "optimizer_parameters = {\"optimizer\": \"sgd\", \"learning_rate\": 1e-3, \"rho\": None, \"tau\": None, \"delta\": None, \"beta1\": None,\n",
    "                            \"beta2\": None}\n",
    "training_pipeline(\"MNIST\",\"init_models/MNIST_2022.pth\",optimizer_parameters,\"MNIST_sgd_custom_lr_1e-3\",seed=2022,batch_size=1024,max_epoch=70)"
   ]
  },
  {
   "cell_type": "code",
   "execution_count": null,
   "metadata": {
    "execution": {
     "iopub.execute_input": "2022-06-15T10:14:34.834704Z",
     "iopub.status.busy": "2022-06-15T10:14:34.834142Z",
     "iopub.status.idle": "2022-06-15T10:44:55.491015Z",
     "shell.execute_reply": "2022-06-15T10:44:55.489892Z",
     "shell.execute_reply.started": "2022-06-15T10:14:34.83466Z"
    }
   },
   "outputs": [],
   "source": [
    "optimizer_parameters = {\"optimizer\": \"sgd\", \"learning_rate\": 2e-1, \"rho\": None, \"tau\": None, \"delta\": None, \"beta1\": None,\n",
    "                            \"beta2\": None}\n",
    "training_pipeline(\"MNIST\",\"init_models/MNIST_2022.pth\",optimizer_parameters,\"MNIST_sgd_custom_lr_2e-1\",seed=2022,batch_size=1024,max_epoch=70)"
   ]
  },
  {
   "cell_type": "code",
   "execution_count": null,
   "metadata": {
    "execution": {
     "iopub.execute_input": "2022-06-15T10:44:55.4934Z",
     "iopub.status.busy": "2022-06-15T10:44:55.492941Z",
     "iopub.status.idle": "2022-06-15T11:15:00.974759Z",
     "shell.execute_reply": "2022-06-15T11:15:00.973634Z",
     "shell.execute_reply.started": "2022-06-15T10:44:55.493345Z"
    }
   },
   "outputs": [],
   "source": [
    "optimizer_parameters = {\"optimizer\": \"sgd\", \"learning_rate\": 5e-1, \"rho\": None, \"tau\": None, \"delta\": None, \"beta1\": None,\n",
    "                            \"beta2\": None}\n",
    "training_pipeline(\"MNIST\",\"init_models/MNIST_2022.pth\",optimizer_parameters,\"MNIST_sgd_custom_lr_5e-1\",seed=2022,batch_size=1024,max_epoch=70)"
   ]
  },
  {
   "cell_type": "code",
   "execution_count": null,
   "metadata": {
    "execution": {
     "iopub.execute_input": "2022-06-15T11:25:27.014096Z",
     "iopub.status.busy": "2022-06-15T11:25:27.0133Z",
     "iopub.status.idle": "2022-06-15T11:55:54.494128Z",
     "shell.execute_reply": "2022-06-15T11:55:54.49286Z",
     "shell.execute_reply.started": "2022-06-15T11:25:27.014064Z"
    }
   },
   "outputs": [],
   "source": [
    "optimizer_parameters = {\"optimizer\": \"sgd\", \"learning_rate\": 1e-0, \"rho\": None, \"tau\": None, \"delta\": None, \"beta1\": None,\n",
    "                            \"beta2\": None}\n",
    "training_pipeline(\"MNIST\",\"init_models/MNIST_2022.pth\",optimizer_parameters,\"MNIST_sgd_custom_lr_1e-0\",seed=2022,batch_size=1024,max_epoch=70)"
   ]
  },
  {
   "cell_type": "markdown",
   "metadata": {},
   "source": [
    "### MSGD"
   ]
  },
  {
   "cell_type": "code",
   "execution_count": null,
   "metadata": {
    "execution": {
     "iopub.execute_input": "2022-06-15T12:11:13.834657Z",
     "iopub.status.busy": "2022-06-15T12:11:13.833846Z",
     "iopub.status.idle": "2022-06-15T12:42:05.162538Z",
     "shell.execute_reply": "2022-06-15T12:42:05.161304Z",
     "shell.execute_reply.started": "2022-06-15T12:11:13.834615Z"
    }
   },
   "outputs": [],
   "source": [
    "optimizer_parameters = {\"optimizer\": \"momentumsgd\", \"learning_rate\": 1e-1, \"rho\": 0.9, \"tau\": None, \"delta\": None, \"beta1\": None,\n",
    "                            \"beta2\": None}\n",
    "training_pipeline(\"MNIST\",\"init_models/MNIST_2022.pth\",optimizer_parameters,\"MNIST_msgd_custom_lr_1e-1\",seed=2022,batch_size=1024,max_epoch=70)"
   ]
  },
  {
   "cell_type": "code",
   "execution_count": null,
   "metadata": {
    "execution": {
     "iopub.execute_input": "2022-06-15T12:42:05.166626Z",
     "iopub.status.busy": "2022-06-15T12:42:05.165854Z",
     "iopub.status.idle": "2022-06-15T13:12:50.660089Z",
     "shell.execute_reply": "2022-06-15T13:12:50.65883Z",
     "shell.execute_reply.started": "2022-06-15T12:42:05.166548Z"
    }
   },
   "outputs": [],
   "source": [
    "optimizer_parameters = {\"optimizer\": \"momentumsgd\", \"learning_rate\": 1e-2, \"rho\": 0.9, \"tau\": None, \"delta\": None, \"beta1\": None,\n",
    "                            \"beta2\": None}\n",
    "training_pipeline(\"MNIST\",\"init_models/MNIST_2022.pth\",optimizer_parameters,\"MNIST_msgd_custom_lr_1e-2\",seed=2022,batch_size=1024,max_epoch=70)"
   ]
  },
  {
   "cell_type": "code",
   "execution_count": null,
   "metadata": {
    "execution": {
     "iopub.execute_input": "2022-06-15T13:30:29.621258Z",
     "iopub.status.busy": "2022-06-15T13:30:29.620841Z",
     "iopub.status.idle": "2022-06-15T14:01:04.598695Z",
     "shell.execute_reply": "2022-06-15T14:01:04.597496Z",
     "shell.execute_reply.started": "2022-06-15T13:30:29.621228Z"
    }
   },
   "outputs": [],
   "source": [
    "optimizer_parameters = {\"optimizer\": \"momentumsgd\", \"learning_rate\": 5e-2, \"rho\": 0.9, \"tau\": None, \"delta\": None, \"beta1\": None,\n",
    "                            \"beta2\": None}\n",
    "training_pipeline(\"MNIST\",\"init_models/MNIST_2022.pth\",optimizer_parameters,\"MNIST_msgd_custom_lr_5e-2\",seed=2022,batch_size=1024,max_epoch=70)"
   ]
  },
  {
   "cell_type": "code",
   "execution_count": null,
   "metadata": {
    "_kg_hide-input": true,
    "execution": {
     "iopub.execute_input": "2022-06-15T14:17:30.825714Z",
     "iopub.status.busy": "2022-06-15T14:17:30.824723Z",
     "iopub.status.idle": "2022-06-15T14:48:37.036397Z",
     "shell.execute_reply": "2022-06-15T14:48:37.034833Z",
     "shell.execute_reply.started": "2022-06-15T14:17:30.825666Z"
    }
   },
   "outputs": [],
   "source": [
    "optimizer_parameters = {\"optimizer\": \"momentumsgd\", \"learning_rate\": 7e-2, \"rho\": 0.9, \"tau\": None, \"delta\": None, \"beta1\": None,\n",
    "                            \"beta2\": None}\n",
    "training_pipeline(\"MNIST\",\"init_models/MNIST_2022.pth\",optimizer_parameters,\"MNIST_msgd_custom_lr_1e-4\",seed=2022,batch_size=1024,max_epoch=70)"
   ]
  },
  {
   "cell_type": "markdown",
   "metadata": {},
   "source": [
    "# FashionMNIST"
   ]
  },
  {
   "cell_type": "code",
   "execution_count": null,
   "metadata": {
    "execution": {
     "iopub.execute_input": "2022-06-15T15:36:33.328162Z",
     "iopub.status.busy": "2022-06-15T15:36:33.327512Z",
     "iopub.status.idle": "2022-06-15T16:07:21.619147Z",
     "shell.execute_reply": "2022-06-15T16:07:21.617823Z",
     "shell.execute_reply.started": "2022-06-15T15:36:33.328119Z"
    }
   },
   "outputs": [],
   "source": [
    "optimizer_parameters = {\"optimizer\": \"sgd\", \"learning_rate\": 1e-1, \"rho\": None, \"tau\": None, \"delta\": None, \"beta1\": None,\n",
    "                            \"beta2\": None}\n",
    "training_pipeline(\"FashionMNIST\",\"init_models/Fashion_MNIST_2022.pth\",optimizer_parameters,\"FashionMNIST_sgd_custom_lr_1e-1\",seed=2022,batch_size=1024,max_epoch=70)"
   ]
  },
  {
   "cell_type": "code",
   "execution_count": null,
   "metadata": {
    "execution": {
     "iopub.execute_input": "2022-06-15T17:17:34.458854Z",
     "iopub.status.busy": "2022-06-15T17:17:34.45844Z",
     "iopub.status.idle": "2022-06-15T17:47:18.223167Z",
     "shell.execute_reply": "2022-06-15T17:47:18.221831Z",
     "shell.execute_reply.started": "2022-06-15T17:17:34.458825Z"
    }
   },
   "outputs": [],
   "source": [
    "optimizer_parameters = {\"optimizer\": \"sgd\", \"learning_rate\": 5e-1, \"rho\": None, \"tau\": None, \"delta\": None, \"beta1\": None,\n",
    "                            \"beta2\": None}\n",
    "training_pipeline(\"FashionMNIST\",\"init_models/Fashion_MNIST_2022.pth\",optimizer_parameters,\"FashionMNIST_sgd_custom_lr_5e-1\",seed=2022,batch_size=1024,max_epoch=70)"
   ]
  },
  {
   "cell_type": "code",
   "execution_count": null,
   "metadata": {
    "execution": {
     "iopub.execute_input": "2022-06-15T19:59:45.849015Z",
     "iopub.status.busy": "2022-06-15T19:59:45.848167Z",
     "iopub.status.idle": "2022-06-15T20:23:51.810251Z",
     "shell.execute_reply": "2022-06-15T20:23:51.809385Z",
     "shell.execute_reply.started": "2022-06-15T19:59:45.848978Z"
    }
   },
   "outputs": [],
   "source": [
    "optimizer_parameters = {\"optimizer\": \"sgd\", \"learning_rate\": 5e-2, \"rho\": None, \"tau\": None, \"delta\": None, \"beta1\": None,\n",
    "                            \"beta2\": None}\n",
    "training_pipeline(\"FashionMNIST\",\"init_models/Fashion_MNIST_2022.pth\",optimizer_parameters,\"FashionMNIST_sgd_custom_lr_5e-2\",seed=2022,batch_size=1024,max_epoch=70)"
   ]
  },
  {
   "cell_type": "code",
   "execution_count": null,
   "metadata": {
    "execution": {
     "iopub.execute_input": "2022-06-15T20:23:51.812325Z",
     "iopub.status.busy": "2022-06-15T20:23:51.811872Z",
     "iopub.status.idle": "2022-06-15T20:47:38.378072Z",
     "shell.execute_reply": "2022-06-15T20:47:38.3773Z",
     "shell.execute_reply.started": "2022-06-15T20:23:51.812267Z"
    }
   },
   "outputs": [],
   "source": [
    "optimizer_parameters = {\"optimizer\": \"sgd\", \"learning_rate\": 1e-2, \"rho\": None, \"tau\": None, \"delta\": None, \"beta1\": None,\n",
    "                            \"beta2\": None}\n",
    "training_pipeline(\"FashionMNIST\",\"init_models/Fashion_MNIST_2022.pth\",optimizer_parameters,\"FashionMNIST_sgd_custom_lr_1e-2\",seed=2022,batch_size=1024,max_epoch=70)"
   ]
  },
  {
   "cell_type": "code",
   "execution_count": null,
   "metadata": {
    "execution": {
     "iopub.execute_input": "2022-06-15T20:47:38.382622Z",
     "iopub.status.busy": "2022-06-15T20:47:38.380284Z",
     "iopub.status.idle": "2022-06-15T21:11:33.309729Z",
     "shell.execute_reply": "2022-06-15T21:11:33.308844Z",
     "shell.execute_reply.started": "2022-06-15T20:47:38.382585Z"
    }
   },
   "outputs": [],
   "source": [
    "optimizer_parameters = {\"optimizer\": \"sgd\", \"learning_rate\": 1e-1, \"rho\": None, \"tau\": None, \"delta\": None, \"beta1\": None,\n",
    "                            \"beta2\": None}\n",
    "training_pipeline(\"FashionMNIST\",\"init_models/Fashion_MNIST_2022.pth\",optimizer_parameters,\"FashionMNIST_sgd_custom_lr_1e-1\",seed=2022,batch_size=1024,max_epoch=70)"
   ]
  },
  {
   "cell_type": "markdown",
   "metadata": {},
   "source": [
    "## Fashion MSGD"
   ]
  },
  {
   "cell_type": "code",
   "execution_count": null,
   "metadata": {
    "execution": {
     "iopub.execute_input": "2022-06-15T21:11:33.312029Z",
     "iopub.status.busy": "2022-06-15T21:11:33.311587Z",
     "iopub.status.idle": "2022-06-15T21:35:40.36807Z",
     "shell.execute_reply": "2022-06-15T21:35:40.367223Z",
     "shell.execute_reply.started": "2022-06-15T21:11:33.311989Z"
    }
   },
   "outputs": [],
   "source": [
    "optimizer_parameters = {\"optimizer\": \"momentumsgd\", \"learning_rate\": 1e-1, \"rho\": 0.9, \"tau\": None, \"delta\": None, \"beta1\": None,\n",
    "                            \"beta2\": None}\n",
    "training_pipeline(\"FashionMNIST\",\"init_models/Fashion_MNIST_2022.pth\",optimizer_parameters,\"FashionMNIST_msgd_custom_lr_1e-1\",seed=2022,batch_size=1024,max_epoch=70)"
   ]
  },
  {
   "cell_type": "code",
   "execution_count": null,
   "metadata": {
    "execution": {
     "iopub.execute_input": "2022-06-15T21:35:40.369816Z",
     "iopub.status.busy": "2022-06-15T21:35:40.369446Z",
     "iopub.status.idle": "2022-06-15T21:59:47.510231Z",
     "shell.execute_reply": "2022-06-15T21:59:47.509218Z",
     "shell.execute_reply.started": "2022-06-15T21:35:40.36977Z"
    }
   },
   "outputs": [],
   "source": [
    "optimizer_parameters = {\"optimizer\": \"momentumsgd\", \"learning_rate\": 1e-2, \"rho\": 0.9, \"tau\": None, \"delta\": None, \"beta1\": None,\n",
    "                            \"beta2\": None}\n",
    "training_pipeline(\"FashionMNIST\",\"init_models/Fashion_MNIST_2022.pth\",optimizer_parameters,\"FashionMNIST_msgd_custom_lr_1e-2\",seed=2022,batch_size=1024,max_epoch=70)"
   ]
  },
  {
   "cell_type": "code",
   "execution_count": null,
   "metadata": {
    "execution": {
     "iopub.status.busy": "2022-06-15T22:15:52.852874Z",
     "iopub.status.idle": "2022-06-15T22:15:52.853482Z",
     "shell.execute_reply": "2022-06-15T22:15:52.853245Z",
     "shell.execute_reply.started": "2022-06-15T22:15:52.853222Z"
    }
   },
   "outputs": [],
   "source": [
    "optimizer_parameters = {\"optimizer\": \"momentumsgd\", \"learning_rate\": 3e-1, \"rho\": 0.9, \"tau\": None, \"delta\": None, \"beta1\": None,\n",
    "                            \"beta2\": None}\n",
    "training_pipeline(\"FashionMNIST\",\"init_models/Fashion_MNIST_2022.pth\",optimizer_parameters,\"FashionMNIST_msgd_custom_lr_3e-1\",seed=2022,batch_size=1024,max_epoch=70)"
   ]
  },
  {
   "cell_type": "code",
   "execution_count": null,
   "metadata": {
    "execution": {
     "iopub.execute_input": "2022-06-15T21:59:47.512234Z",
     "iopub.status.busy": "2022-06-15T21:59:47.511757Z",
     "iopub.status.idle": "2022-06-15T22:15:52.849928Z",
     "shell.execute_reply": "2022-06-15T22:15:52.848183Z",
     "shell.execute_reply.started": "2022-06-15T21:59:47.512196Z"
    }
   },
   "outputs": [],
   "source": [
    "optimizer_parameters = {\"optimizer\": \"momentumsgd\", \"learning_rate\": 5e-2, \"rho\": 0.9, \"tau\": None, \"delta\": None, \"beta1\": None,\n",
    "                            \"beta2\": None}\n",
    "training_pipeline(\"FashionMNIST\",\"init_models/Fashion_MNIST_2022.pth\",optimizer_parameters,\"FashionMNIST_msgd_custom_lr_5e-2\",seed=2022,batch_size=1024,max_epoch=70)"
   ]
  },
  {
   "cell_type": "code",
   "execution_count": 9,
   "metadata": {
    "execution": {
     "iopub.execute_input": "2022-06-16T09:06:04.161705Z",
     "iopub.status.busy": "2022-06-16T09:06:04.161203Z",
     "iopub.status.idle": "2022-06-16T09:36:40.421852Z",
     "shell.execute_reply": "2022-06-16T09:36:40.420685Z",
     "shell.execute_reply.started": "2022-06-16T09:06:04.161666Z"
    }
   },
   "outputs": [],
   "source": [
    "optimizer_parameters = {\"optimizer\": \"momentumsgd\", \"learning_rate\": 5e-1, \"rho\": 0.9, \"tau\": None, \"delta\": None, \"beta1\": None,\n",
    "                            \"beta2\": None}\n",
    "training_pipeline(\"FashionMNIST\",\"init_models/Fashion_MNIST_2022.pth\",optimizer_parameters,\"FashionMNIST_msgd_custom_lr_5e-1\",seed=2022,batch_size=1024,max_epoch=70)"
   ]
  },
  {
   "cell_type": "code",
   "execution_count": null,
   "metadata": {
    "execution": {
     "iopub.status.busy": "2022-06-15T22:15:52.854798Z",
     "iopub.status.idle": "2022-06-15T22:15:52.85564Z",
     "shell.execute_reply": "2022-06-15T22:15:52.855298Z",
     "shell.execute_reply.started": "2022-06-15T22:15:52.855272Z"
    }
   },
   "outputs": [],
   "source": [
    "optimizer_parameters = {\"optimizer\": \"momentumsgd\", \"learning_rate\": 3e-2, \"rho\": 0.9, \"tau\": None, \"delta\": None, \"beta1\": None,\n",
    "                            \"beta2\": None}\n",
    "training_pipeline(\"FashionMNIST\",\"init_models/Fashion_MNIST_2022.pth\",optimizer_parameters,\"FashionMNIST_msgd_custom_lr_3e-2\",seed=2022,batch_size=1024,max_epoch=70)"
   ]
  },
  {
   "cell_type": "code",
   "execution_count": null,
   "metadata": {
    "execution": {
     "iopub.status.busy": "2022-06-15T22:15:52.856911Z",
     "iopub.status.idle": "2022-06-15T22:15:52.857516Z",
     "shell.execute_reply": "2022-06-15T22:15:52.857292Z",
     "shell.execute_reply.started": "2022-06-15T22:15:52.857258Z"
    }
   },
   "outputs": [],
   "source": [
    "optimizer_parameters = {\"optimizer\": \"momentumsgd\", \"learning_rate\": 2e-0, \"rho\": 0.9, \"tau\": None, \"delta\": None, \"beta1\": None,\n",
    "                            \"beta2\": None}\n",
    "training_pipeline(\"FashionMNIST\",\"init_models/Fashion_MNIST_2022.pth\",optimizer_parameters,\"FashionMNIST_msgd_custom_lr_2e-0\",seed=2022,batch_size=1024,max_epoch=70)"
   ]
  },
  {
   "cell_type": "code",
   "execution_count": null,
   "metadata": {
    "execution": {
     "iopub.status.busy": "2022-06-15T22:15:52.858582Z",
     "iopub.status.idle": "2022-06-15T22:15:52.859166Z",
     "shell.execute_reply": "2022-06-15T22:15:52.858961Z",
     "shell.execute_reply.started": "2022-06-15T22:15:52.858938Z"
    }
   },
   "outputs": [],
   "source": [
    "optimizer_parameters = {\"optimizer\": \"momentumsgd\", \"learning_rate\": 3e-2, \"rho\": 0.9, \"tau\": None, \"delta\": None, \"beta1\": None,\n",
    "                            \"beta2\": None}\n",
    "training_pipeline(\"FashionMNIST\",\"init_models/Fashion_MNIST_2022.pth\",optimizer_parameters,\"FashionMNIST_msgd_custom_lr_3e-2\",seed=2022,batch_size=1024,max_epoch=70)"
   ]
  },
  {
   "cell_type": "code",
   "execution_count": null,
   "metadata": {},
   "outputs": [],
   "source": []
  }
 ],
 "metadata": {
  "kernelspec": {
   "display_name": "Python 3 (ipykernel)",
   "language": "python",
   "name": "python3"
  },
  "language_info": {
   "codemirror_mode": {
    "name": "ipython",
    "version": 3
   },
   "file_extension": ".py",
   "mimetype": "text/x-python",
   "name": "python",
   "nbconvert_exporter": "python",
   "pygments_lexer": "ipython3",
   "version": "3.9.12"
  }
 },
 "nbformat": 4,
 "nbformat_minor": 4
}
