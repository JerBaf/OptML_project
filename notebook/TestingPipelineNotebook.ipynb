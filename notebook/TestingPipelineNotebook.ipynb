{
 "cells": [
  {
   "cell_type": "markdown",
   "metadata": {
    "id": "hgrrnLGH0w8L"
   },
   "source": [
    "# Training Notebook"
   ]
  },
  {
   "cell_type": "markdown",
   "metadata": {
    "id": "AuZfFAQt00VY"
   },
   "source": [
    "## Installation"
   ]
  },
  {
   "cell_type": "code",
   "execution_count": 1,
   "metadata": {
    "id": "Y9N3e5gP053T"
   },
   "outputs": [
    {
     "name": "stderr",
     "output_type": "stream",
     "text": [
      "Cloning into 'OptML_project'...\n"
     ]
    }
   ],
   "source": [
    "!git clone https://github.com/JerBaf/OptML_project"
   ]
  },
  {
   "cell_type": "code",
   "execution_count": null,
   "metadata": {
    "id": "V_h5MIBx1Eoh"
   },
   "outputs": [],
   "source": [
    "!cp /kaggle/working/OptML_project/model.py /kaggle/working/model.py\n",
    "!cp /kaggle/working/OptML_project/nb_optimizers.py /kaggle/working/nb_optimizers.py"
   ]
  },
  {
   "cell_type": "markdown",
   "metadata": {
    "id": "02rVMKn81JSU"
   },
   "source": [
    "## Imports"
   ]
  },
  {
   "cell_type": "code",
   "execution_count": 1,
   "metadata": {
    "id": "6-SRQBB71F-N"
   },
   "outputs": [],
   "source": [
    "import torch\n",
    "import torchvision\n",
    "import ssl\n",
    "import random\n",
    "import numpy as np\n",
    "from torch.utils.data import DataLoader\n",
    "import torchvision.transforms as transforms\n",
    "import torch.nn as nn\n",
    "import torch.optim as optim\n",
    "import torch.nn.functional as F\n",
    "import torch.backends.cudnn as cudnn\n",
    "import matplotlib.pyplot as plt\n",
    "from sklearn.decomposition import PCA\n",
    "from sklearn.manifold import TSNE\n",
    "import tqdm.notebook as tqdm\n",
    "from torch.utils.data.sampler import SubsetRandomSampler\n",
    "import os\n",
    "# Custom helpers\n",
    "from model import *\n",
    "import nb_optimizers as opt\n",
    "# Allow autoreload\n",
    "%load_ext autoreload\n",
    "%autoreload 2\n",
    "# Allow Download of CIFAR datasets\n",
    "ssl._create_default_https_context = ssl._create_unverified_context"
   ]
  },
  {
   "cell_type": "code",
   "execution_count": 2,
   "metadata": {
    "id": "DTj7xDyH1Mnk"
   },
   "outputs": [
    {
     "name": "stdout",
     "output_type": "stream",
     "text": [
      "cuda:0\n",
      "Setup complete. Using torch 1.10.0+cu113 _CudaDeviceProperties(name='NVIDIA GeForce RTX 2060', major=7, minor=5, total_memory=6143MB, multi_processor_count=30)\n"
     ]
    }
   ],
   "source": [
    "device = torch.device('cuda:0' if torch.cuda.is_available() else 'cpu')\n",
    "#device = \"cpu\"\n",
    "print(device)\n",
    "print('Setup complete. Using torch %s %s' % (torch.__version__, torch.cuda.get_device_properties(0) if torch.cuda.is_available() else 'CPU'))"
   ]
  },
  {
   "cell_type": "markdown",
   "metadata": {
    "id": "FRG8mx1-1YuW"
   },
   "source": [
    "## Helpers"
   ]
  },
  {
   "cell_type": "code",
   "execution_count": 3,
   "metadata": {
    "id": "5ekrcNKK3AIt"
   },
   "outputs": [],
   "source": [
    "### Helpers\n",
    "def seed_worker(worker_id):\n",
    "  worker_seed = torch.initial_seed() % 2**32\n",
    "  np.random.seed(worker_seed)\n",
    "  random.seed(worker_seed)\n",
    "\n",
    "def get_samplers(train_dataset,generator,shuffle=True,val_ratio=0.1):\n",
    "    num_train = len(train_dataset)\n",
    "    indices = list(range(num_train))\n",
    "    split = int(np.floor(val_ratio * num_train))\n",
    "    if shuffle:\n",
    "        np.random.shuffle(indices)\n",
    "    train_idx, val_idx = indices[split:], indices[:split]\n",
    "    train_sampler = SubsetRandomSampler(train_idx,generator=generator)\n",
    "    val_sampler = SubsetRandomSampler(val_idx,generator=generator)\n",
    "    return train_sampler, val_sampler\n",
    "  \n",
    "def test_step(model,test_dataloader,device,criterion):\n",
    "    model.eval()\n",
    "    test_loss = 0\n",
    "    correct = 0\n",
    "    total = 0\n",
    "    with torch.no_grad():\n",
    "        for inputs, targets in tqdm.tqdm(test_dataloader,leave=False):\n",
    "            inputs, targets = inputs.to(device), targets.to(device)\n",
    "            outputs = model(inputs)\n",
    "            loss = criterion(outputs, targets)\n",
    "\n",
    "            test_loss += loss.item()\n",
    "            _, predicted = outputs.max(1)\n",
    "            total += targets.size(0)\n",
    "            correct += predicted.eq(targets).sum().item()\n",
    "    accuracy = 100.*correct/total\n",
    "    return accuracy"
   ]
  },
  {
   "cell_type": "markdown",
   "metadata": {
    "id": "MsjnUHMJ3C7X"
   },
   "source": [
    "## Testing Pipeline"
   ]
  },
  {
   "cell_type": "code",
   "execution_count": 4,
   "metadata": {
    "id": "y_SxHeeN3GCg"
   },
   "outputs": [],
   "source": [
    "def testing_pipeline(dataset,model_path,seed=2022,batch_size=1024):\n",
    "    ### Reproducibility\n",
    "    torch.manual_seed(seed)\n",
    "    random.seed(seed)\n",
    "    np.random.seed(seed)\n",
    "    g = torch.Generator()\n",
    "    g.manual_seed(seed)\n",
    "    ### Download Datasets\n",
    "    if dataset == \"CIFAR10\":\n",
    "        dataset_train = torchvision.datasets.CIFAR10(\"data/\",download=True)\n",
    "        dataset_test = torchvision.datasets.CIFAR10(\"data/\",download=True,train=False)\n",
    "    elif dataset == \"CIFAR100\":\n",
    "        dataset_train = torchvision.datasets.CIFAR100(\"data/\",download=True)\n",
    "        dataset_test = torchvision.datasets.CIFAR100(\"data/\",download=True,train=False)\n",
    "    elif dataset == \"MNIST\":\n",
    "        dataset_train = torchvision.datasets.MNIST(\"data/\",download=True)\n",
    "        dataset_test = torchvision.datasets.MNIST(\"data/\",download=True,train=False)\n",
    "    elif dataset == \"FashionMNIST\":\n",
    "        dataset_train = torchvision.datasets.FashionMNIST(\"data/\",download=True)\n",
    "        dataset_test = torchvision.datasets.FashionMNIST(\"data/\",download=True,train=False)\n",
    "    else:\n",
    "        raise Exception(\"Unavailable dataset, please select among CIFAR10, CIFAR100, MNIST, FashionMNIST.\")\n",
    "      ### Compute initial Transform\n",
    "    if dataset in [\"CIFAR10\",\"CIFAR100\"]:\n",
    "        mean_per_channel = tuple((dataset_train.data/255).mean(axis=(0,1,2)))\n",
    "        std_per_channel = tuple((dataset_train.data/255).std(axis=(0,1,2)))\n",
    "    else:\n",
    "        mean_per_channel = (dataset_train.data.numpy()/255).mean()\n",
    "        std_per_channel = (dataset_train.data.numpy()/255).std()\n",
    "\n",
    "    base_transform = transforms.Compose([\n",
    "        transforms.ToTensor(),\n",
    "        transforms.Normalize(mean_per_channel, std_per_channel),\n",
    "      ])\n",
    "    noise_transform = transforms.Compose([\n",
    "        transforms.GaussianBlur(3),\n",
    "        transforms.ToTensor(),\n",
    "        transforms.Normalize(mean_per_channel, std_per_channel),\n",
    "      ])\n",
    "    affine_transform = transforms.Compose([\n",
    "        transforms.RandomAffine(20,translate=(0.2,0.2),scale=(0.85,1.15)),\n",
    "        transforms.ToTensor(),\n",
    "        transforms.Normalize(mean_per_channel, std_per_channel),\n",
    "      ])\n",
    "    flip_transform = transforms.Compose([\n",
    "        transforms.RandomVerticalFlip(0.5),\n",
    "        transforms.RandomHorizontalFlip(0.5),\n",
    "        transforms.ToTensor(),\n",
    "        transforms.Normalize(mean_per_channel, std_per_channel),\n",
    "      ])\n",
    "  ### Dataset Creation\n",
    "    if dataset == \"CIFAR10\":\n",
    "        dataset_test = torchvision.datasets.CIFAR10(\"data/\",transform=base_transform,train=False)\n",
    "        dataset_noise = torchvision.datasets.CIFAR10(\"data/\",transform=noise_transform,train=False)\n",
    "        dataset_affine = torchvision.datasets.CIFAR10(\"data/\",transform=affine_transform,train=False)\n",
    "        dataset_flip = torchvision.datasets.CIFAR10(\"data/\",transform=flip_transform,train=False)\n",
    "    elif dataset == \"CIFAR100\":\n",
    "        dataset_test = torchvision.datasets.CIFAR100(\"data/\",transform=base_transform,train=False)\n",
    "        dataset_noise = torchvision.datasets.CIFAR100(\"data/\",transform=noise_transform,train=False)\n",
    "        dataset_affine = torchvision.datasets.CIFAR100(\"data/\",transform=affine_transform,train=False)\n",
    "        dataset_flip = torchvision.datasets.CIFAR100(\"data/\",transform=flip_transform,train=False)\n",
    "    elif dataset == \"MNIST\":\n",
    "        dataset_test = torchvision.datasets.MNIST(\"data/\",transform=base_transform,train=False)\n",
    "        dataset_noise = torchvision.datasets.MNIST(\"data/\",transform=noise_transform,train=False)\n",
    "        dataset_affine = torchvision.datasets.MNIST(\"data/\",transform=affine_transform,train=False)\n",
    "        dataset_flip = torchvision.datasets.MNIST(\"data/\",transform=flip_transform,train=False)\n",
    "    elif dataset == \"FashionMNIST\":\n",
    "        dataset_test = torchvision.datasets.FashionMNIST(\"data/\",transform=base_transform,train=False)\n",
    "        dataset_noise = torchvision.datasets.FashionMNIST(\"data/\",transform=noise_transform,train=False)\n",
    "        dataset_affine = torchvision.datasets.FashionMNIST(\"data/\",transform=affine_transform,train=False)\n",
    "        dataset_flip = torchvision.datasets.FashionMNIST(\"data/\",transform=flip_transform,train=False)\n",
    "    ### Dataloaders creation\n",
    "    dataloader_test = DataLoader(dataset_test,batch_size=batch_size,pin_memory=True,\n",
    "                                  worker_init_fn=seed_worker, generator=g, shuffle=True)\n",
    "    dataloader_noise = DataLoader(dataset_noise,batch_size=batch_size,pin_memory=True,\n",
    "                                  worker_init_fn=seed_worker, generator=g, shuffle=True)\n",
    "    dataloader_affine = DataLoader(dataset_affine,batch_size=batch_size,pin_memory=True,\n",
    "                                  worker_init_fn=seed_worker, generator=g, shuffle=True)\n",
    "    dataloader_flip = DataLoader(dataset_flip,batch_size=batch_size,pin_memory=True,\n",
    "                                  worker_init_fn=seed_worker, generator=g, shuffle=True)\n",
    "\n",
    "      ### Model Creation\n",
    "    if dataset == \"CIFAR10\":\n",
    "        in_c, out_c = (3,10)\n",
    "    elif dataset == \"CIFAR100\":\n",
    "        in_c, out_c = (3,100)\n",
    "    elif dataset == \"MNIST\":\n",
    "        in_c, out_c = (1,10)\n",
    "    elif dataset == \"FashionMNIST\":\n",
    "        in_c, out_c = (1,10)\n",
    "    model = VGG(in_c,out_c)\n",
    "    init_checkpoint = torch.load(model_path)\n",
    "    state_dict = init_checkpoint[\"model\"]\n",
    "    formated_state_dict = dict()\n",
    "    for key, value in state_dict.items():\n",
    "        formated_state_dict[key.split(\"module.\")[-1]] = value\n",
    "    model.load_state_dict(formated_state_dict)\n",
    "    model.to(device)\n",
    "    if device.type == 'cuda':\n",
    "        model = torch.nn.DataParallel(model)\n",
    "        cudnn.benchmark = True\n",
    "    ### Old Validation Accuracy\n",
    "    validation_accuracy = init_checkpoint[\"accuracy\"]\n",
    "    print(f\"\\nThe model has a validation accuracy of {validation_accuracy:.5f}%\")\n",
    "    ### Criterion Definition\n",
    "    criterion = nn.CrossEntropyLoss()\n",
    "    ### Testing steps\n",
    "    base_acc = test_step(model,dataloader_test,device,criterion)\n",
    "    noise_acc = test_step(model,dataloader_noise,device,criterion)\n",
    "    affine_acc = test_step(model,dataloader_affine,device,criterion)\n",
    "    flip_acc = test_step(model,dataloader_flip,device,criterion)\n",
    "    print(\"The model has the following perfomances:\")\n",
    "    print(f\"-\\tAccuracy on the standard test set: {base_acc:.5f}%\")\n",
    "    print(f\"-\\tAccuracy on the noisy test set: {noise_acc:.5f}%\")\n",
    "    print(f\"-\\tAccuracy on the affine transformed test set: {affine_acc:.5f}%\")\n",
    "    print(f\"-\\tAccuracy on the flipped test set: {flip_acc:.5f}%\")\n",
    "    return base_acc, noise_acc, affine_acc, flip_acc"
   ]
  },
  {
   "cell_type": "markdown",
   "metadata": {
    "id": "goyAC2ln3OQG"
   },
   "source": [
    "## Runs"
   ]
  },
  {
   "cell_type": "markdown",
   "metadata": {},
   "source": [
    "### SGD"
   ]
  },
  {
   "cell_type": "markdown",
   "metadata": {},
   "source": [
    "##### CIFAR10"
   ]
  },
  {
   "cell_type": "code",
   "execution_count": 6,
   "metadata": {
    "collapsed": true
   },
   "outputs": [
    {
     "name": "stdout",
     "output_type": "stream",
     "text": [
      "Downloading https://www.cs.toronto.edu/~kriz/cifar-10-python.tar.gz to data/cifar-10-python.tar.gz\n"
     ]
    },
    {
     "data": {
      "application/vnd.jupyter.widget-view+json": {
       "model_id": "9d4485d7e7fa43dcb588c9edac4649c5",
       "version_major": 2,
       "version_minor": 0
      },
      "text/plain": [
       "  0%|          | 0/170498071 [00:00<?, ?it/s]"
      ]
     },
     "metadata": {},
     "output_type": "display_data"
    },
    {
     "name": "stdout",
     "output_type": "stream",
     "text": [
      "Extracting data/cifar-10-python.tar.gz to data/\n",
      "Files already downloaded and verified\n",
      "\n",
      "The model has a validation accuracy of 84.00000%\n"
     ]
    },
    {
     "data": {
      "application/vnd.jupyter.widget-view+json": {
       "model_id": "",
       "version_major": 2,
       "version_minor": 0
      },
      "text/plain": [
       "  0%|          | 0/10 [00:00<?, ?it/s]"
      ]
     },
     "metadata": {},
     "output_type": "display_data"
    },
    {
     "name": "stderr",
     "output_type": "stream",
     "text": [
      "C:\\EPFL\\master\\MA_2\\OptML\\OptML_project\\notebook\\model.py:18: UserWarning: Implicit dimension choice for softmax has been deprecated. Change the call to include dim=X as an argument.\n",
      "  out = softmax_output(out)\n"
     ]
    },
    {
     "data": {
      "application/vnd.jupyter.widget-view+json": {
       "model_id": "",
       "version_major": 2,
       "version_minor": 0
      },
      "text/plain": [
       "  0%|          | 0/10 [00:00<?, ?it/s]"
      ]
     },
     "metadata": {},
     "output_type": "display_data"
    },
    {
     "data": {
      "application/vnd.jupyter.widget-view+json": {
       "model_id": "",
       "version_major": 2,
       "version_minor": 0
      },
      "text/plain": [
       "  0%|          | 0/10 [00:00<?, ?it/s]"
      ]
     },
     "metadata": {},
     "output_type": "display_data"
    },
    {
     "data": {
      "application/vnd.jupyter.widget-view+json": {
       "model_id": "",
       "version_major": 2,
       "version_minor": 0
      },
      "text/plain": [
       "  0%|          | 0/10 [00:00<?, ?it/s]"
      ]
     },
     "metadata": {},
     "output_type": "display_data"
    },
    {
     "name": "stdout",
     "output_type": "stream",
     "text": [
      "The model has the following perfomances:\n",
      "-\tAccuracy on the standard test set: 83.02000%\n",
      "-\tAccuracy on the noisy test set: 67.86000%\n",
      "-\tAccuracy on the affine transformed test set: 53.04000%\n",
      "-\tAccuracy on the flipped test set: 58.81000%\n"
     ]
    }
   ],
   "source": [
    "base_acc, noise_acc, affine_acc, flip_acc = testing_pipeline(\"CIFAR10\",\"../../project/bests/CIFAR10_SGD/CIFAR10_sgd_custom_lr_3e-1_rho_9e-1_ckpt.pth\")"
   ]
  },
  {
   "cell_type": "markdown",
   "metadata": {},
   "source": [
    "##### CIFAR100"
   ]
  },
  {
   "cell_type": "code",
   "execution_count": 7,
   "metadata": {
    "collapsed": true
   },
   "outputs": [
    {
     "name": "stdout",
     "output_type": "stream",
     "text": [
      "Downloading https://www.cs.toronto.edu/~kriz/cifar-100-python.tar.gz to data/cifar-100-python.tar.gz\n"
     ]
    },
    {
     "data": {
      "application/vnd.jupyter.widget-view+json": {
       "model_id": "bf31626fef11479caa5cc1fb2e80df68",
       "version_major": 2,
       "version_minor": 0
      },
      "text/plain": [
       "  0%|          | 0/169001437 [00:00<?, ?it/s]"
      ]
     },
     "metadata": {},
     "output_type": "display_data"
    },
    {
     "name": "stdout",
     "output_type": "stream",
     "text": [
      "Extracting data/cifar-100-python.tar.gz to data/\n",
      "Files already downloaded and verified\n",
      "\n",
      "The model has a validation accuracy of 43.58000%\n"
     ]
    },
    {
     "data": {
      "application/vnd.jupyter.widget-view+json": {
       "model_id": "",
       "version_major": 2,
       "version_minor": 0
      },
      "text/plain": [
       "  0%|          | 0/10 [00:00<?, ?it/s]"
      ]
     },
     "metadata": {},
     "output_type": "display_data"
    },
    {
     "data": {
      "application/vnd.jupyter.widget-view+json": {
       "model_id": "",
       "version_major": 2,
       "version_minor": 0
      },
      "text/plain": [
       "  0%|          | 0/10 [00:00<?, ?it/s]"
      ]
     },
     "metadata": {},
     "output_type": "display_data"
    },
    {
     "data": {
      "application/vnd.jupyter.widget-view+json": {
       "model_id": "",
       "version_major": 2,
       "version_minor": 0
      },
      "text/plain": [
       "  0%|          | 0/10 [00:00<?, ?it/s]"
      ]
     },
     "metadata": {},
     "output_type": "display_data"
    },
    {
     "data": {
      "application/vnd.jupyter.widget-view+json": {
       "model_id": "",
       "version_major": 2,
       "version_minor": 0
      },
      "text/plain": [
       "  0%|          | 0/10 [00:00<?, ?it/s]"
      ]
     },
     "metadata": {},
     "output_type": "display_data"
    },
    {
     "name": "stdout",
     "output_type": "stream",
     "text": [
      "The model has the following perfomances:\n",
      "-\tAccuracy on the standard test set: 42.69000%\n",
      "-\tAccuracy on the noisy test set: 32.33000%\n",
      "-\tAccuracy on the affine transformed test set: 18.51000%\n",
      "-\tAccuracy on the flipped test set: 28.30000%\n"
     ]
    }
   ],
   "source": [
    "base_acc, noise_acc, affine_acc, flip_acc = testing_pipeline(\"CIFAR100\",\"../../project/bests/CIFAR100_SGD/ckpt.pth\")"
   ]
  },
  {
   "cell_type": "markdown",
   "metadata": {},
   "source": [
    "##### FashionMNIST"
   ]
  },
  {
   "cell_type": "code",
   "execution_count": 8,
   "metadata": {
    "collapsed": true
   },
   "outputs": [
    {
     "name": "stdout",
     "output_type": "stream",
     "text": [
      "Downloading http://fashion-mnist.s3-website.eu-central-1.amazonaws.com/train-images-idx3-ubyte.gz\n",
      "Downloading http://fashion-mnist.s3-website.eu-central-1.amazonaws.com/train-images-idx3-ubyte.gz to data/FashionMNIST\\raw\\train-images-idx3-ubyte.gz\n"
     ]
    },
    {
     "data": {
      "application/vnd.jupyter.widget-view+json": {
       "model_id": "9c2d52b58477452b9bb95a94f4468f3d",
       "version_major": 2,
       "version_minor": 0
      },
      "text/plain": [
       "  0%|          | 0/26421880 [00:00<?, ?it/s]"
      ]
     },
     "metadata": {},
     "output_type": "display_data"
    },
    {
     "name": "stdout",
     "output_type": "stream",
     "text": [
      "Extracting data/FashionMNIST\\raw\\train-images-idx3-ubyte.gz to data/FashionMNIST\\raw\n",
      "\n",
      "Downloading http://fashion-mnist.s3-website.eu-central-1.amazonaws.com/train-labels-idx1-ubyte.gz\n",
      "Downloading http://fashion-mnist.s3-website.eu-central-1.amazonaws.com/train-labels-idx1-ubyte.gz to data/FashionMNIST\\raw\\train-labels-idx1-ubyte.gz\n"
     ]
    },
    {
     "data": {
      "application/vnd.jupyter.widget-view+json": {
       "model_id": "3de13cfc57304cf7821b2a0b023eebb5",
       "version_major": 2,
       "version_minor": 0
      },
      "text/plain": [
       "  0%|          | 0/29515 [00:00<?, ?it/s]"
      ]
     },
     "metadata": {},
     "output_type": "display_data"
    },
    {
     "name": "stdout",
     "output_type": "stream",
     "text": [
      "Extracting data/FashionMNIST\\raw\\train-labels-idx1-ubyte.gz to data/FashionMNIST\\raw\n",
      "\n",
      "Downloading http://fashion-mnist.s3-website.eu-central-1.amazonaws.com/t10k-images-idx3-ubyte.gz\n",
      "Downloading http://fashion-mnist.s3-website.eu-central-1.amazonaws.com/t10k-images-idx3-ubyte.gz to data/FashionMNIST\\raw\\t10k-images-idx3-ubyte.gz\n"
     ]
    },
    {
     "data": {
      "application/vnd.jupyter.widget-view+json": {
       "model_id": "833812ef3ee446778aec850705202703",
       "version_major": 2,
       "version_minor": 0
      },
      "text/plain": [
       "  0%|          | 0/4422102 [00:00<?, ?it/s]"
      ]
     },
     "metadata": {},
     "output_type": "display_data"
    },
    {
     "name": "stdout",
     "output_type": "stream",
     "text": [
      "Extracting data/FashionMNIST\\raw\\t10k-images-idx3-ubyte.gz to data/FashionMNIST\\raw\n",
      "\n",
      "Downloading http://fashion-mnist.s3-website.eu-central-1.amazonaws.com/t10k-labels-idx1-ubyte.gz\n",
      "Downloading http://fashion-mnist.s3-website.eu-central-1.amazonaws.com/t10k-labels-idx1-ubyte.gz to data/FashionMNIST\\raw\\t10k-labels-idx1-ubyte.gz\n"
     ]
    },
    {
     "data": {
      "application/vnd.jupyter.widget-view+json": {
       "model_id": "4bbb5cd72c374a21b8ef9555d4c50909",
       "version_major": 2,
       "version_minor": 0
      },
      "text/plain": [
       "  0%|          | 0/5148 [00:00<?, ?it/s]"
      ]
     },
     "metadata": {},
     "output_type": "display_data"
    },
    {
     "name": "stdout",
     "output_type": "stream",
     "text": [
      "Extracting data/FashionMNIST\\raw\\t10k-labels-idx1-ubyte.gz to data/FashionMNIST\\raw\n",
      "\n",
      "\n",
      "The model has a validation accuracy of 93.90000%\n"
     ]
    },
    {
     "data": {
      "application/vnd.jupyter.widget-view+json": {
       "model_id": "",
       "version_major": 2,
       "version_minor": 0
      },
      "text/plain": [
       "  0%|          | 0/10 [00:00<?, ?it/s]"
      ]
     },
     "metadata": {},
     "output_type": "display_data"
    },
    {
     "data": {
      "application/vnd.jupyter.widget-view+json": {
       "model_id": "",
       "version_major": 2,
       "version_minor": 0
      },
      "text/plain": [
       "  0%|          | 0/10 [00:00<?, ?it/s]"
      ]
     },
     "metadata": {},
     "output_type": "display_data"
    },
    {
     "data": {
      "application/vnd.jupyter.widget-view+json": {
       "model_id": "",
       "version_major": 2,
       "version_minor": 0
      },
      "text/plain": [
       "  0%|          | 0/10 [00:00<?, ?it/s]"
      ]
     },
     "metadata": {},
     "output_type": "display_data"
    },
    {
     "data": {
      "application/vnd.jupyter.widget-view+json": {
       "model_id": "",
       "version_major": 2,
       "version_minor": 0
      },
      "text/plain": [
       "  0%|          | 0/10 [00:00<?, ?it/s]"
      ]
     },
     "metadata": {},
     "output_type": "display_data"
    },
    {
     "name": "stdout",
     "output_type": "stream",
     "text": [
      "The model has the following perfomances:\n",
      "-\tAccuracy on the standard test set: 93.33000%\n",
      "-\tAccuracy on the noisy test set: 87.34000%\n",
      "-\tAccuracy on the affine transformed test set: 47.18000%\n",
      "-\tAccuracy on the flipped test set: 54.01000%\n"
     ]
    }
   ],
   "source": [
    "base_acc, noise_acc, affine_acc, flip_acc = testing_pipeline(\"FashionMNIST\",\"../../project/bests/FashionMNIST_SGD/ckpt.pth\")"
   ]
  },
  {
   "cell_type": "markdown",
   "metadata": {},
   "source": [
    "##### MNIST"
   ]
  },
  {
   "cell_type": "code",
   "execution_count": 9,
   "metadata": {
    "collapsed": true
   },
   "outputs": [
    {
     "name": "stdout",
     "output_type": "stream",
     "text": [
      "Downloading http://yann.lecun.com/exdb/mnist/train-images-idx3-ubyte.gz\n",
      "Downloading http://yann.lecun.com/exdb/mnist/train-images-idx3-ubyte.gz to data/MNIST\\raw\\train-images-idx3-ubyte.gz\n"
     ]
    },
    {
     "data": {
      "application/vnd.jupyter.widget-view+json": {
       "model_id": "559063cebe694b5dbed90fffb983d305",
       "version_major": 2,
       "version_minor": 0
      },
      "text/plain": [
       "  0%|          | 0/9912422 [00:00<?, ?it/s]"
      ]
     },
     "metadata": {},
     "output_type": "display_data"
    },
    {
     "name": "stdout",
     "output_type": "stream",
     "text": [
      "Extracting data/MNIST\\raw\\train-images-idx3-ubyte.gz to data/MNIST\\raw\n",
      "\n",
      "Downloading http://yann.lecun.com/exdb/mnist/train-labels-idx1-ubyte.gz\n",
      "Downloading http://yann.lecun.com/exdb/mnist/train-labels-idx1-ubyte.gz to data/MNIST\\raw\\train-labels-idx1-ubyte.gz\n"
     ]
    },
    {
     "data": {
      "application/vnd.jupyter.widget-view+json": {
       "model_id": "da1cf6cec6564caeb6116017ff4aa6b2",
       "version_major": 2,
       "version_minor": 0
      },
      "text/plain": [
       "  0%|          | 0/28881 [00:00<?, ?it/s]"
      ]
     },
     "metadata": {},
     "output_type": "display_data"
    },
    {
     "name": "stdout",
     "output_type": "stream",
     "text": [
      "Extracting data/MNIST\\raw\\train-labels-idx1-ubyte.gz to data/MNIST\\raw\n",
      "\n",
      "Downloading http://yann.lecun.com/exdb/mnist/t10k-images-idx3-ubyte.gz\n",
      "Downloading http://yann.lecun.com/exdb/mnist/t10k-images-idx3-ubyte.gz to data/MNIST\\raw\\t10k-images-idx3-ubyte.gz\n"
     ]
    },
    {
     "data": {
      "application/vnd.jupyter.widget-view+json": {
       "model_id": "fb65a7fceacf4466925b6eabb4c995d2",
       "version_major": 2,
       "version_minor": 0
      },
      "text/plain": [
       "  0%|          | 0/1648877 [00:00<?, ?it/s]"
      ]
     },
     "metadata": {},
     "output_type": "display_data"
    },
    {
     "name": "stdout",
     "output_type": "stream",
     "text": [
      "Extracting data/MNIST\\raw\\t10k-images-idx3-ubyte.gz to data/MNIST\\raw\n",
      "\n",
      "Downloading http://yann.lecun.com/exdb/mnist/t10k-labels-idx1-ubyte.gz\n",
      "Downloading http://yann.lecun.com/exdb/mnist/t10k-labels-idx1-ubyte.gz to data/MNIST\\raw\\t10k-labels-idx1-ubyte.gz\n"
     ]
    },
    {
     "data": {
      "application/vnd.jupyter.widget-view+json": {
       "model_id": "afe13fccd3064aab870846b376aa400e",
       "version_major": 2,
       "version_minor": 0
      },
      "text/plain": [
       "  0%|          | 0/4542 [00:00<?, ?it/s]"
      ]
     },
     "metadata": {},
     "output_type": "display_data"
    },
    {
     "name": "stdout",
     "output_type": "stream",
     "text": [
      "Extracting data/MNIST\\raw\\t10k-labels-idx1-ubyte.gz to data/MNIST\\raw\n",
      "\n",
      "\n",
      "The model has a validation accuracy of 99.48333%\n"
     ]
    },
    {
     "data": {
      "application/vnd.jupyter.widget-view+json": {
       "model_id": "",
       "version_major": 2,
       "version_minor": 0
      },
      "text/plain": [
       "  0%|          | 0/10 [00:00<?, ?it/s]"
      ]
     },
     "metadata": {},
     "output_type": "display_data"
    },
    {
     "data": {
      "application/vnd.jupyter.widget-view+json": {
       "model_id": "",
       "version_major": 2,
       "version_minor": 0
      },
      "text/plain": [
       "  0%|          | 0/10 [00:00<?, ?it/s]"
      ]
     },
     "metadata": {},
     "output_type": "display_data"
    },
    {
     "data": {
      "application/vnd.jupyter.widget-view+json": {
       "model_id": "",
       "version_major": 2,
       "version_minor": 0
      },
      "text/plain": [
       "  0%|          | 0/10 [00:00<?, ?it/s]"
      ]
     },
     "metadata": {},
     "output_type": "display_data"
    },
    {
     "data": {
      "application/vnd.jupyter.widget-view+json": {
       "model_id": "",
       "version_major": 2,
       "version_minor": 0
      },
      "text/plain": [
       "  0%|          | 0/10 [00:00<?, ?it/s]"
      ]
     },
     "metadata": {},
     "output_type": "display_data"
    },
    {
     "name": "stdout",
     "output_type": "stream",
     "text": [
      "The model has the following perfomances:\n",
      "-\tAccuracy on the standard test set: 99.47000%\n",
      "-\tAccuracy on the noisy test set: 96.04000%\n",
      "-\tAccuracy on the affine transformed test set: 72.20000%\n",
      "-\tAccuracy on the flipped test set: 56.29000%\n"
     ]
    }
   ],
   "source": [
    "base_acc, noise_acc, affine_acc, flip_acc = testing_pipeline(\"MNIST\",\"../../project/bests/MNIST_SGD/ckpt.pth\")"
   ]
  },
  {
   "cell_type": "markdown",
   "metadata": {},
   "source": [
    "### MSGD"
   ]
  },
  {
   "cell_type": "markdown",
   "metadata": {},
   "source": [
    "##### CIFAR10"
   ]
  },
  {
   "cell_type": "code",
   "execution_count": 10,
   "metadata": {
    "collapsed": true
   },
   "outputs": [
    {
     "name": "stdout",
     "output_type": "stream",
     "text": [
      "Files already downloaded and verified\n",
      "Files already downloaded and verified\n",
      "\n",
      "The model has a validation accuracy of 86.06000%\n"
     ]
    },
    {
     "data": {
      "application/vnd.jupyter.widget-view+json": {
       "model_id": "",
       "version_major": 2,
       "version_minor": 0
      },
      "text/plain": [
       "  0%|          | 0/10 [00:00<?, ?it/s]"
      ]
     },
     "metadata": {},
     "output_type": "display_data"
    },
    {
     "data": {
      "application/vnd.jupyter.widget-view+json": {
       "model_id": "",
       "version_major": 2,
       "version_minor": 0
      },
      "text/plain": [
       "  0%|          | 0/10 [00:00<?, ?it/s]"
      ]
     },
     "metadata": {},
     "output_type": "display_data"
    },
    {
     "data": {
      "application/vnd.jupyter.widget-view+json": {
       "model_id": "",
       "version_major": 2,
       "version_minor": 0
      },
      "text/plain": [
       "  0%|          | 0/10 [00:00<?, ?it/s]"
      ]
     },
     "metadata": {},
     "output_type": "display_data"
    },
    {
     "data": {
      "application/vnd.jupyter.widget-view+json": {
       "model_id": "",
       "version_major": 2,
       "version_minor": 0
      },
      "text/plain": [
       "  0%|          | 0/10 [00:00<?, ?it/s]"
      ]
     },
     "metadata": {},
     "output_type": "display_data"
    },
    {
     "name": "stdout",
     "output_type": "stream",
     "text": [
      "The model has the following perfomances:\n",
      "-\tAccuracy on the standard test set: 84.89000%\n",
      "-\tAccuracy on the noisy test set: 58.56000%\n",
      "-\tAccuracy on the affine transformed test set: 56.61000%\n",
      "-\tAccuracy on the flipped test set: 60.56000%\n"
     ]
    }
   ],
   "source": [
    "base_acc, noise_acc, affine_acc, flip_acc = testing_pipeline(\"CIFAR10\",\"../../project/bests/CIFAR10_MSGD/CIFAR10_msgd_custom_lr_2e-1_rho_9e-1_ckpt.pth\")"
   ]
  },
  {
   "cell_type": "markdown",
   "metadata": {},
   "source": [
    "##### CIFAR100"
   ]
  },
  {
   "cell_type": "code",
   "execution_count": 6,
   "metadata": {
    "collapsed": true
   },
   "outputs": [
    {
     "name": "stdout",
     "output_type": "stream",
     "text": [
      "Files already downloaded and verified\n",
      "Files already downloaded and verified\n",
      "\n",
      "The model has a validation accuracy of 52.30000%\n"
     ]
    },
    {
     "data": {
      "application/vnd.jupyter.widget-view+json": {
       "model_id": "",
       "version_major": 2,
       "version_minor": 0
      },
      "text/plain": [
       "  0%|          | 0/10 [00:00<?, ?it/s]"
      ]
     },
     "metadata": {},
     "output_type": "display_data"
    },
    {
     "name": "stderr",
     "output_type": "stream",
     "text": [
      "C:\\EPFL\\master\\MA_2\\OptML\\OptML_project\\notebook\\model.py:18: UserWarning: Implicit dimension choice for softmax has been deprecated. Change the call to include dim=X as an argument.\n",
      "  out = softmax_output(out)\n"
     ]
    },
    {
     "data": {
      "application/vnd.jupyter.widget-view+json": {
       "model_id": "",
       "version_major": 2,
       "version_minor": 0
      },
      "text/plain": [
       "  0%|          | 0/10 [00:00<?, ?it/s]"
      ]
     },
     "metadata": {},
     "output_type": "display_data"
    },
    {
     "data": {
      "application/vnd.jupyter.widget-view+json": {
       "model_id": "",
       "version_major": 2,
       "version_minor": 0
      },
      "text/plain": [
       "  0%|          | 0/10 [00:00<?, ?it/s]"
      ]
     },
     "metadata": {},
     "output_type": "display_data"
    },
    {
     "data": {
      "application/vnd.jupyter.widget-view+json": {
       "model_id": "",
       "version_major": 2,
       "version_minor": 0
      },
      "text/plain": [
       "  0%|          | 0/10 [00:00<?, ?it/s]"
      ]
     },
     "metadata": {},
     "output_type": "display_data"
    },
    {
     "name": "stdout",
     "output_type": "stream",
     "text": [
      "The model has the following perfomances:\n",
      "-\tAccuracy on the standard test set: 51.73000%\n",
      "-\tAccuracy on the noisy test set: 33.22000%\n",
      "-\tAccuracy on the affine transformed test set: 22.44000%\n",
      "-\tAccuracy on the flipped test set: 35.18000%\n"
     ]
    }
   ],
   "source": [
    "base_acc, noise_acc, affine_acc, flip_acc = testing_pipeline(\"CIFAR100\",\"../../project/bests/CIFAR100_MSGD/CIFAR100_msgd_custom_lr_1e-1_rho_9e-1_ckpt.pth\")"
   ]
  },
  {
   "cell_type": "markdown",
   "metadata": {},
   "source": [
    "##### FashionMNIST"
   ]
  },
  {
   "cell_type": "code",
   "execution_count": 12,
   "metadata": {
    "collapsed": true
   },
   "outputs": [
    {
     "name": "stdout",
     "output_type": "stream",
     "text": [
      "\n",
      "The model has a validation accuracy of 93.81667%\n"
     ]
    },
    {
     "data": {
      "application/vnd.jupyter.widget-view+json": {
       "model_id": "",
       "version_major": 2,
       "version_minor": 0
      },
      "text/plain": [
       "  0%|          | 0/10 [00:00<?, ?it/s]"
      ]
     },
     "metadata": {},
     "output_type": "display_data"
    },
    {
     "data": {
      "application/vnd.jupyter.widget-view+json": {
       "model_id": "",
       "version_major": 2,
       "version_minor": 0
      },
      "text/plain": [
       "  0%|          | 0/10 [00:00<?, ?it/s]"
      ]
     },
     "metadata": {},
     "output_type": "display_data"
    },
    {
     "data": {
      "application/vnd.jupyter.widget-view+json": {
       "model_id": "",
       "version_major": 2,
       "version_minor": 0
      },
      "text/plain": [
       "  0%|          | 0/10 [00:00<?, ?it/s]"
      ]
     },
     "metadata": {},
     "output_type": "display_data"
    },
    {
     "data": {
      "application/vnd.jupyter.widget-view+json": {
       "model_id": "",
       "version_major": 2,
       "version_minor": 0
      },
      "text/plain": [
       "  0%|          | 0/10 [00:00<?, ?it/s]"
      ]
     },
     "metadata": {},
     "output_type": "display_data"
    },
    {
     "name": "stdout",
     "output_type": "stream",
     "text": [
      "The model has the following perfomances:\n",
      "-\tAccuracy on the standard test set: 93.12000%\n",
      "-\tAccuracy on the noisy test set: 86.16000%\n",
      "-\tAccuracy on the affine transformed test set: 46.48000%\n",
      "-\tAccuracy on the flipped test set: 51.43000%\n"
     ]
    }
   ],
   "source": [
    "base_acc, noise_acc, affine_acc, flip_acc = testing_pipeline(\"FashionMNIST\",\"../../project/bests/FashionMNIST_MSGD/ckpt.pth\")"
   ]
  },
  {
   "cell_type": "markdown",
   "metadata": {},
   "source": [
    "##### MNIST"
   ]
  },
  {
   "cell_type": "code",
   "execution_count": 13,
   "metadata": {
    "collapsed": true
   },
   "outputs": [
    {
     "name": "stdout",
     "output_type": "stream",
     "text": [
      "\n",
      "The model has a validation accuracy of 99.45000%\n"
     ]
    },
    {
     "data": {
      "application/vnd.jupyter.widget-view+json": {
       "model_id": "",
       "version_major": 2,
       "version_minor": 0
      },
      "text/plain": [
       "  0%|          | 0/10 [00:00<?, ?it/s]"
      ]
     },
     "metadata": {},
     "output_type": "display_data"
    },
    {
     "data": {
      "application/vnd.jupyter.widget-view+json": {
       "model_id": "",
       "version_major": 2,
       "version_minor": 0
      },
      "text/plain": [
       "  0%|          | 0/10 [00:00<?, ?it/s]"
      ]
     },
     "metadata": {},
     "output_type": "display_data"
    },
    {
     "data": {
      "application/vnd.jupyter.widget-view+json": {
       "model_id": "",
       "version_major": 2,
       "version_minor": 0
      },
      "text/plain": [
       "  0%|          | 0/10 [00:00<?, ?it/s]"
      ]
     },
     "metadata": {},
     "output_type": "display_data"
    },
    {
     "data": {
      "application/vnd.jupyter.widget-view+json": {
       "model_id": "",
       "version_major": 2,
       "version_minor": 0
      },
      "text/plain": [
       "  0%|          | 0/10 [00:00<?, ?it/s]"
      ]
     },
     "metadata": {},
     "output_type": "display_data"
    },
    {
     "name": "stdout",
     "output_type": "stream",
     "text": [
      "The model has the following perfomances:\n",
      "-\tAccuracy on the standard test set: 99.57000%\n",
      "-\tAccuracy on the noisy test set: 98.57000%\n",
      "-\tAccuracy on the affine transformed test set: 74.61000%\n",
      "-\tAccuracy on the flipped test set: 56.46000%\n"
     ]
    }
   ],
   "source": [
    "base_acc, noise_acc, affine_acc, flip_acc = testing_pipeline(\"MNIST\",\"../../project/bests/MNIST_MSGD/ckpt.pth\")"
   ]
  },
  {
   "cell_type": "markdown",
   "metadata": {},
   "source": [
    "### ADAM"
   ]
  },
  {
   "cell_type": "markdown",
   "metadata": {},
   "source": [
    "##### CIFAR10"
   ]
  },
  {
   "cell_type": "code",
   "execution_count": 14,
   "metadata": {
    "collapsed": true
   },
   "outputs": [
    {
     "name": "stdout",
     "output_type": "stream",
     "text": [
      "Files already downloaded and verified\n",
      "Files already downloaded and verified\n",
      "\n",
      "The model has a validation accuracy of 85.36000%\n"
     ]
    },
    {
     "data": {
      "application/vnd.jupyter.widget-view+json": {
       "model_id": "",
       "version_major": 2,
       "version_minor": 0
      },
      "text/plain": [
       "  0%|          | 0/10 [00:00<?, ?it/s]"
      ]
     },
     "metadata": {},
     "output_type": "display_data"
    },
    {
     "data": {
      "application/vnd.jupyter.widget-view+json": {
       "model_id": "",
       "version_major": 2,
       "version_minor": 0
      },
      "text/plain": [
       "  0%|          | 0/10 [00:00<?, ?it/s]"
      ]
     },
     "metadata": {},
     "output_type": "display_data"
    },
    {
     "data": {
      "application/vnd.jupyter.widget-view+json": {
       "model_id": "",
       "version_major": 2,
       "version_minor": 0
      },
      "text/plain": [
       "  0%|          | 0/10 [00:00<?, ?it/s]"
      ]
     },
     "metadata": {},
     "output_type": "display_data"
    },
    {
     "data": {
      "application/vnd.jupyter.widget-view+json": {
       "model_id": "",
       "version_major": 2,
       "version_minor": 0
      },
      "text/plain": [
       "  0%|          | 0/10 [00:00<?, ?it/s]"
      ]
     },
     "metadata": {},
     "output_type": "display_data"
    },
    {
     "name": "stdout",
     "output_type": "stream",
     "text": [
      "The model has the following perfomances:\n",
      "-\tAccuracy on the standard test set: 84.44000%\n",
      "-\tAccuracy on the noisy test set: 61.67000%\n",
      "-\tAccuracy on the affine transformed test set: 56.33000%\n",
      "-\tAccuracy on the flipped test set: 59.79000%\n"
     ]
    }
   ],
   "source": [
    "base_acc, noise_acc, affine_acc, flip_acc = testing_pipeline(\"CIFAR10\",\"../../project/bests/CIFAR10_ADAM/ckpt.pth\")"
   ]
  },
  {
   "cell_type": "markdown",
   "metadata": {},
   "source": [
    "##### CIFAR100"
   ]
  },
  {
   "cell_type": "code",
   "execution_count": 15,
   "metadata": {
    "collapsed": true
   },
   "outputs": [
    {
     "name": "stdout",
     "output_type": "stream",
     "text": [
      "Files already downloaded and verified\n",
      "Files already downloaded and verified\n",
      "\n",
      "The model has a validation accuracy of 40.08000%\n"
     ]
    },
    {
     "data": {
      "application/vnd.jupyter.widget-view+json": {
       "model_id": "",
       "version_major": 2,
       "version_minor": 0
      },
      "text/plain": [
       "  0%|          | 0/10 [00:00<?, ?it/s]"
      ]
     },
     "metadata": {},
     "output_type": "display_data"
    },
    {
     "data": {
      "application/vnd.jupyter.widget-view+json": {
       "model_id": "",
       "version_major": 2,
       "version_minor": 0
      },
      "text/plain": [
       "  0%|          | 0/10 [00:00<?, ?it/s]"
      ]
     },
     "metadata": {},
     "output_type": "display_data"
    },
    {
     "data": {
      "application/vnd.jupyter.widget-view+json": {
       "model_id": "",
       "version_major": 2,
       "version_minor": 0
      },
      "text/plain": [
       "  0%|          | 0/10 [00:00<?, ?it/s]"
      ]
     },
     "metadata": {},
     "output_type": "display_data"
    },
    {
     "data": {
      "application/vnd.jupyter.widget-view+json": {
       "model_id": "",
       "version_major": 2,
       "version_minor": 0
      },
      "text/plain": [
       "  0%|          | 0/10 [00:00<?, ?it/s]"
      ]
     },
     "metadata": {},
     "output_type": "display_data"
    },
    {
     "name": "stdout",
     "output_type": "stream",
     "text": [
      "The model has the following perfomances:\n",
      "-\tAccuracy on the standard test set: 38.14000%\n",
      "-\tAccuracy on the noisy test set: 29.28000%\n",
      "-\tAccuracy on the affine transformed test set: 14.36000%\n",
      "-\tAccuracy on the flipped test set: 25.84000%\n"
     ]
    }
   ],
   "source": [
    "base_acc, noise_acc, affine_acc, flip_acc = testing_pipeline(\"CIFAR100\",\"../../project/bests/CIFAR100_ADAM/ckpt.pth\")"
   ]
  },
  {
   "cell_type": "markdown",
   "metadata": {},
   "source": [
    "##### FashionMNIST"
   ]
  },
  {
   "cell_type": "code",
   "execution_count": 16,
   "metadata": {
    "collapsed": true
   },
   "outputs": [
    {
     "name": "stdout",
     "output_type": "stream",
     "text": [
      "\n",
      "The model has a validation accuracy of 93.53333%\n"
     ]
    },
    {
     "data": {
      "application/vnd.jupyter.widget-view+json": {
       "model_id": "",
       "version_major": 2,
       "version_minor": 0
      },
      "text/plain": [
       "  0%|          | 0/10 [00:00<?, ?it/s]"
      ]
     },
     "metadata": {},
     "output_type": "display_data"
    },
    {
     "data": {
      "application/vnd.jupyter.widget-view+json": {
       "model_id": "",
       "version_major": 2,
       "version_minor": 0
      },
      "text/plain": [
       "  0%|          | 0/10 [00:00<?, ?it/s]"
      ]
     },
     "metadata": {},
     "output_type": "display_data"
    },
    {
     "data": {
      "application/vnd.jupyter.widget-view+json": {
       "model_id": "",
       "version_major": 2,
       "version_minor": 0
      },
      "text/plain": [
       "  0%|          | 0/10 [00:00<?, ?it/s]"
      ]
     },
     "metadata": {},
     "output_type": "display_data"
    },
    {
     "data": {
      "application/vnd.jupyter.widget-view+json": {
       "model_id": "",
       "version_major": 2,
       "version_minor": 0
      },
      "text/plain": [
       "  0%|          | 0/10 [00:00<?, ?it/s]"
      ]
     },
     "metadata": {},
     "output_type": "display_data"
    },
    {
     "name": "stdout",
     "output_type": "stream",
     "text": [
      "The model has the following perfomances:\n",
      "-\tAccuracy on the standard test set: 92.57000%\n",
      "-\tAccuracy on the noisy test set: 86.17000%\n",
      "-\tAccuracy on the affine transformed test set: 49.05000%\n",
      "-\tAccuracy on the flipped test set: 53.92000%\n"
     ]
    }
   ],
   "source": [
    "base_acc, noise_acc, affine_acc, flip_acc = testing_pipeline(\"FashionMNIST\",\"../../project/bests/FashionMNIST_ADAM/ckpt.pth\")"
   ]
  },
  {
   "cell_type": "markdown",
   "metadata": {},
   "source": [
    "##### MNIST"
   ]
  },
  {
   "cell_type": "code",
   "execution_count": 17,
   "metadata": {
    "collapsed": true
   },
   "outputs": [
    {
     "name": "stdout",
     "output_type": "stream",
     "text": [
      "\n",
      "The model has a validation accuracy of 99.33333%\n"
     ]
    },
    {
     "data": {
      "application/vnd.jupyter.widget-view+json": {
       "model_id": "",
       "version_major": 2,
       "version_minor": 0
      },
      "text/plain": [
       "  0%|          | 0/10 [00:00<?, ?it/s]"
      ]
     },
     "metadata": {},
     "output_type": "display_data"
    },
    {
     "data": {
      "application/vnd.jupyter.widget-view+json": {
       "model_id": "",
       "version_major": 2,
       "version_minor": 0
      },
      "text/plain": [
       "  0%|          | 0/10 [00:00<?, ?it/s]"
      ]
     },
     "metadata": {},
     "output_type": "display_data"
    },
    {
     "data": {
      "application/vnd.jupyter.widget-view+json": {
       "model_id": "",
       "version_major": 2,
       "version_minor": 0
      },
      "text/plain": [
       "  0%|          | 0/10 [00:00<?, ?it/s]"
      ]
     },
     "metadata": {},
     "output_type": "display_data"
    },
    {
     "data": {
      "application/vnd.jupyter.widget-view+json": {
       "model_id": "",
       "version_major": 2,
       "version_minor": 0
      },
      "text/plain": [
       "  0%|          | 0/10 [00:00<?, ?it/s]"
      ]
     },
     "metadata": {},
     "output_type": "display_data"
    },
    {
     "name": "stdout",
     "output_type": "stream",
     "text": [
      "The model has the following perfomances:\n",
      "-\tAccuracy on the standard test set: 99.30000%\n",
      "-\tAccuracy on the noisy test set: 98.96000%\n",
      "-\tAccuracy on the affine transformed test set: 79.80000%\n",
      "-\tAccuracy on the flipped test set: 57.46000%\n"
     ]
    }
   ],
   "source": [
    "base_acc, noise_acc, affine_acc, flip_acc = testing_pipeline(\"MNIST\",\"../../project/bests/MNIST_ADAM/ckpt.pth\")"
   ]
  },
  {
   "cell_type": "markdown",
   "metadata": {},
   "source": [
    "### RMSProp"
   ]
  },
  {
   "cell_type": "markdown",
   "metadata": {},
   "source": [
    "##### CIFAR10"
   ]
  },
  {
   "cell_type": "code",
   "execution_count": 18,
   "metadata": {
    "collapsed": true
   },
   "outputs": [
    {
     "name": "stdout",
     "output_type": "stream",
     "text": [
      "Files already downloaded and verified\n",
      "Files already downloaded and verified\n",
      "\n",
      "The model has a validation accuracy of 82.36000%\n"
     ]
    },
    {
     "data": {
      "application/vnd.jupyter.widget-view+json": {
       "model_id": "",
       "version_major": 2,
       "version_minor": 0
      },
      "text/plain": [
       "  0%|          | 0/10 [00:00<?, ?it/s]"
      ]
     },
     "metadata": {},
     "output_type": "display_data"
    },
    {
     "data": {
      "application/vnd.jupyter.widget-view+json": {
       "model_id": "",
       "version_major": 2,
       "version_minor": 0
      },
      "text/plain": [
       "  0%|          | 0/10 [00:00<?, ?it/s]"
      ]
     },
     "metadata": {},
     "output_type": "display_data"
    },
    {
     "data": {
      "application/vnd.jupyter.widget-view+json": {
       "model_id": "",
       "version_major": 2,
       "version_minor": 0
      },
      "text/plain": [
       "  0%|          | 0/10 [00:00<?, ?it/s]"
      ]
     },
     "metadata": {},
     "output_type": "display_data"
    },
    {
     "data": {
      "application/vnd.jupyter.widget-view+json": {
       "model_id": "",
       "version_major": 2,
       "version_minor": 0
      },
      "text/plain": [
       "  0%|          | 0/10 [00:00<?, ?it/s]"
      ]
     },
     "metadata": {},
     "output_type": "display_data"
    },
    {
     "name": "stdout",
     "output_type": "stream",
     "text": [
      "The model has the following perfomances:\n",
      "-\tAccuracy on the standard test set: 81.48000%\n",
      "-\tAccuracy on the noisy test set: 56.14000%\n",
      "-\tAccuracy on the affine transformed test set: 50.08000%\n",
      "-\tAccuracy on the flipped test set: 60.50000%\n"
     ]
    }
   ],
   "source": [
    "base_acc, noise_acc, affine_acc, flip_acc = testing_pipeline(\"CIFAR10\",\"../../project/bests/CIFAR10_RMS/ckpt.pth\")"
   ]
  },
  {
   "cell_type": "markdown",
   "metadata": {},
   "source": [
    "##### CIFAR100"
   ]
  },
  {
   "cell_type": "code",
   "execution_count": 19,
   "metadata": {
    "collapsed": true
   },
   "outputs": [
    {
     "name": "stdout",
     "output_type": "stream",
     "text": [
      "Files already downloaded and verified\n",
      "Files already downloaded and verified\n",
      "\n",
      "The model has a validation accuracy of 41.72000%\n"
     ]
    },
    {
     "data": {
      "application/vnd.jupyter.widget-view+json": {
       "model_id": "",
       "version_major": 2,
       "version_minor": 0
      },
      "text/plain": [
       "  0%|          | 0/10 [00:00<?, ?it/s]"
      ]
     },
     "metadata": {},
     "output_type": "display_data"
    },
    {
     "data": {
      "application/vnd.jupyter.widget-view+json": {
       "model_id": "",
       "version_major": 2,
       "version_minor": 0
      },
      "text/plain": [
       "  0%|          | 0/10 [00:00<?, ?it/s]"
      ]
     },
     "metadata": {},
     "output_type": "display_data"
    },
    {
     "data": {
      "application/vnd.jupyter.widget-view+json": {
       "model_id": "",
       "version_major": 2,
       "version_minor": 0
      },
      "text/plain": [
       "  0%|          | 0/10 [00:00<?, ?it/s]"
      ]
     },
     "metadata": {},
     "output_type": "display_data"
    },
    {
     "data": {
      "application/vnd.jupyter.widget-view+json": {
       "model_id": "",
       "version_major": 2,
       "version_minor": 0
      },
      "text/plain": [
       "  0%|          | 0/10 [00:00<?, ?it/s]"
      ]
     },
     "metadata": {},
     "output_type": "display_data"
    },
    {
     "name": "stdout",
     "output_type": "stream",
     "text": [
      "The model has the following perfomances:\n",
      "-\tAccuracy on the standard test set: 39.78000%\n",
      "-\tAccuracy on the noisy test set: 32.07000%\n",
      "-\tAccuracy on the affine transformed test set: 14.96000%\n",
      "-\tAccuracy on the flipped test set: 26.54000%\n"
     ]
    }
   ],
   "source": [
    "base_acc, noise_acc, affine_acc, flip_acc = testing_pipeline(\"CIFAR100\",\"../../project/bests/CIFAR100_RMS/ckpt.pth\")"
   ]
  },
  {
   "cell_type": "markdown",
   "metadata": {},
   "source": [
    "##### FashionMNIST"
   ]
  },
  {
   "cell_type": "code",
   "execution_count": 20,
   "metadata": {
    "collapsed": true
   },
   "outputs": [
    {
     "name": "stdout",
     "output_type": "stream",
     "text": [
      "\n",
      "The model has a validation accuracy of 92.95000%\n"
     ]
    },
    {
     "data": {
      "application/vnd.jupyter.widget-view+json": {
       "model_id": "",
       "version_major": 2,
       "version_minor": 0
      },
      "text/plain": [
       "  0%|          | 0/10 [00:00<?, ?it/s]"
      ]
     },
     "metadata": {},
     "output_type": "display_data"
    },
    {
     "data": {
      "application/vnd.jupyter.widget-view+json": {
       "model_id": "",
       "version_major": 2,
       "version_minor": 0
      },
      "text/plain": [
       "  0%|          | 0/10 [00:00<?, ?it/s]"
      ]
     },
     "metadata": {},
     "output_type": "display_data"
    },
    {
     "data": {
      "application/vnd.jupyter.widget-view+json": {
       "model_id": "",
       "version_major": 2,
       "version_minor": 0
      },
      "text/plain": [
       "  0%|          | 0/10 [00:00<?, ?it/s]"
      ]
     },
     "metadata": {},
     "output_type": "display_data"
    },
    {
     "data": {
      "application/vnd.jupyter.widget-view+json": {
       "model_id": "",
       "version_major": 2,
       "version_minor": 0
      },
      "text/plain": [
       "  0%|          | 0/10 [00:00<?, ?it/s]"
      ]
     },
     "metadata": {},
     "output_type": "display_data"
    },
    {
     "name": "stdout",
     "output_type": "stream",
     "text": [
      "The model has the following perfomances:\n",
      "-\tAccuracy on the standard test set: 92.22000%\n",
      "-\tAccuracy on the noisy test set: 83.52000%\n",
      "-\tAccuracy on the affine transformed test set: 52.63000%\n",
      "-\tAccuracy on the flipped test set: 54.21000%\n"
     ]
    }
   ],
   "source": [
    "base_acc, noise_acc, affine_acc, flip_acc = testing_pipeline(\"FashionMNIST\",\"../../project/bests/FashionMNIST_RMS/ckpt.pth\")"
   ]
  },
  {
   "cell_type": "markdown",
   "metadata": {},
   "source": [
    "##### MNIST"
   ]
  },
  {
   "cell_type": "code",
   "execution_count": 21,
   "metadata": {
    "collapsed": true
   },
   "outputs": [
    {
     "name": "stdout",
     "output_type": "stream",
     "text": [
      "\n",
      "The model has a validation accuracy of 99.45000%\n"
     ]
    },
    {
     "data": {
      "application/vnd.jupyter.widget-view+json": {
       "model_id": "",
       "version_major": 2,
       "version_minor": 0
      },
      "text/plain": [
       "  0%|          | 0/10 [00:00<?, ?it/s]"
      ]
     },
     "metadata": {},
     "output_type": "display_data"
    },
    {
     "data": {
      "application/vnd.jupyter.widget-view+json": {
       "model_id": "",
       "version_major": 2,
       "version_minor": 0
      },
      "text/plain": [
       "  0%|          | 0/10 [00:00<?, ?it/s]"
      ]
     },
     "metadata": {},
     "output_type": "display_data"
    },
    {
     "data": {
      "application/vnd.jupyter.widget-view+json": {
       "model_id": "",
       "version_major": 2,
       "version_minor": 0
      },
      "text/plain": [
       "  0%|          | 0/10 [00:00<?, ?it/s]"
      ]
     },
     "metadata": {},
     "output_type": "display_data"
    },
    {
     "data": {
      "application/vnd.jupyter.widget-view+json": {
       "model_id": "",
       "version_major": 2,
       "version_minor": 0
      },
      "text/plain": [
       "  0%|          | 0/10 [00:00<?, ?it/s]"
      ]
     },
     "metadata": {},
     "output_type": "display_data"
    },
    {
     "name": "stdout",
     "output_type": "stream",
     "text": [
      "The model has the following perfomances:\n",
      "-\tAccuracy on the standard test set: 99.52000%\n",
      "-\tAccuracy on the noisy test set: 98.77000%\n",
      "-\tAccuracy on the affine transformed test set: 75.12000%\n",
      "-\tAccuracy on the flipped test set: 56.99000%\n"
     ]
    }
   ],
   "source": [
    "base_acc, noise_acc, affine_acc, flip_acc = testing_pipeline(\"MNIST\",\"../../project/bests/MNIST_RMS/ckpt.pth\")"
   ]
  }
 ],
 "metadata": {
  "colab": {
   "collapsed_sections": [
    "AuZfFAQt00VY",
    "02rVMKn81JSU",
    "IUEYLMxk1RLs",
    "FRG8mx1-1YuW",
    "MsjnUHMJ3C7X"
   ],
   "name": "TrainingPipelineNotebook.ipynb",
   "provenance": []
  },
  "kernelspec": {
   "display_name": "Python 3 (ipykernel)",
   "language": "python",
   "name": "python3"
  },
  "language_info": {
   "codemirror_mode": {
    "name": "ipython",
    "version": 3
   },
   "file_extension": ".py",
   "mimetype": "text/x-python",
   "name": "python",
   "nbconvert_exporter": "python",
   "pygments_lexer": "ipython3",
   "version": "3.9.12"
  }
 },
 "nbformat": 4,
 "nbformat_minor": 1
}
